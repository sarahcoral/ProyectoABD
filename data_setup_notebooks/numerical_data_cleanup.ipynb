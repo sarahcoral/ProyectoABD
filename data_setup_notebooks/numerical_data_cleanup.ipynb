{
 "cells": [
  {
   "cell_type": "markdown",
   "metadata": {},
   "source": [
    "NUMERIC COLUMNS:\n",
    "\n",
    "max_salary\n",
    "\n",
    "views\n",
    "\n",
    "med_salary\n",
    "\n",
    "min_salary\n",
    "\n",
    "applies\n",
    "\n",
    "original_listed_time\n",
    "\n",
    "expiry\n",
    "\n",
    "closed_time\n",
    "\n",
    "listed_time\n",
    "\n",
    "normalized_salary"
   ]
  },
  {
   "cell_type": "code",
   "execution_count": 2,
   "metadata": {},
   "outputs": [],
   "source": [
    "#IMPORTS\n",
    "\n",
    "import sqlite3\n",
    "import pandas as pd\n",
    "import numpy as np"
   ]
  },
  {
   "cell_type": "code",
   "execution_count": 3,
   "metadata": {},
   "outputs": [],
   "source": [
    "#run this only after completing sqliteDBsetup.py execution\n",
    "#DATABASE CONNECTION\n",
    "\n",
    "file_path = r\"C:\\Users\\Sarah\\Code\\ProyectoABD\\database\\linkedindatabase.db\"\n",
    "conn = sqlite3.connect(file_path)"
   ]
  },
  {
   "cell_type": "markdown",
   "metadata": {},
   "source": [
    "Info:\\\n",
    "Salaries are provided either hourly, bi-weekly, monthly, or yearly. They also either contain a range (low-high), or a singular \"median\" value.\n",
    "\n",
    "normalized_salary is a crude method to convert all of them to the same scale, by taking the average of low and high, and converting everything to an annual salary by multiplying by the number of weeks/months in a year\n",
    "\n",
    "Note that they're still in different currencies"
   ]
  },
  {
   "cell_type": "code",
   "execution_count": 4,
   "metadata": {},
   "outputs": [],
   "source": [
    "query = \"SELECT job_id, max_salary, pay_period, views, med_salary, min_salary, applies, original_listed_time, expiry, closed_time, listed_time, currency, normalized_salary FROM postings\"\n",
    "df = pd.read_sql(query, conn)\n",
    "df.head()\n",
    "df.to_sql('numerical_postings', conn, if_exists='replace', index = False)\n",
    "conn.commit()"
   ]
  },
  {
   "cell_type": "code",
   "execution_count": 14,
   "metadata": {},
   "outputs": [
    {
     "data": {
      "text/html": [
       "<div>\n",
       "<style scoped>\n",
       "    .dataframe tbody tr th:only-of-type {\n",
       "        vertical-align: middle;\n",
       "    }\n",
       "\n",
       "    .dataframe tbody tr th {\n",
       "        vertical-align: top;\n",
       "    }\n",
       "\n",
       "    .dataframe thead th {\n",
       "        text-align: right;\n",
       "    }\n",
       "</style>\n",
       "<table border=\"1\" class=\"dataframe\">\n",
       "  <thead>\n",
       "    <tr style=\"text-align: right;\">\n",
       "      <th></th>\n",
       "      <th>job_id</th>\n",
       "      <th>max_salary</th>\n",
       "      <th>pay_period</th>\n",
       "      <th>views</th>\n",
       "      <th>med_salary</th>\n",
       "      <th>min_salary</th>\n",
       "      <th>applies</th>\n",
       "      <th>original_listed_time</th>\n",
       "      <th>expiry</th>\n",
       "      <th>closed_time</th>\n",
       "      <th>listed_time</th>\n",
       "      <th>currency</th>\n",
       "      <th>normalized_salary</th>\n",
       "    </tr>\n",
       "  </thead>\n",
       "  <tbody>\n",
       "    <tr>\n",
       "      <th>94881</th>\n",
       "      <td>3904911743</td>\n",
       "      <td>120000000.0</td>\n",
       "      <td>YEARLY</td>\n",
       "      <td>31.0</td>\n",
       "      <td>NaN</td>\n",
       "      <td>85000000.0</td>\n",
       "      <td>2.0</td>\n",
       "      <td>1713448770000</td>\n",
       "      <td>1729000576000</td>\n",
       "      <td>NaN</td>\n",
       "      <td>1713448770000</td>\n",
       "      <td>USD</td>\n",
       "      <td>102500000.0</td>\n",
       "    </tr>\n",
       "  </tbody>\n",
       "</table>\n",
       "</div>"
      ],
      "text/plain": [
       "           job_id   max_salary pay_period  views  med_salary  min_salary  \\\n",
       "94881  3904911743  120000000.0     YEARLY   31.0         NaN  85000000.0   \n",
       "\n",
       "       applies  original_listed_time         expiry  closed_time  \\\n",
       "94881      2.0         1713448770000  1729000576000          NaN   \n",
       "\n",
       "         listed_time currency  normalized_salary  \n",
       "94881  1713448770000      USD        102500000.0  "
      ]
     },
     "execution_count": 14,
     "metadata": {},
     "output_type": "execute_result"
    }
   ],
   "source": [
    "df.loc[df['job_id'] == 3904911743]"
   ]
  },
  {
   "cell_type": "code",
   "execution_count": 6,
   "metadata": {},
   "outputs": [
    {
     "data": {
      "text/html": [
       "<div>\n",
       "<style scoped>\n",
       "    .dataframe tbody tr th:only-of-type {\n",
       "        vertical-align: middle;\n",
       "    }\n",
       "\n",
       "    .dataframe tbody tr th {\n",
       "        vertical-align: top;\n",
       "    }\n",
       "\n",
       "    .dataframe thead th {\n",
       "        text-align: right;\n",
       "    }\n",
       "</style>\n",
       "<table border=\"1\" class=\"dataframe\">\n",
       "  <thead>\n",
       "    <tr style=\"text-align: right;\">\n",
       "      <th></th>\n",
       "      <th>job_id</th>\n",
       "      <th>max_salary</th>\n",
       "      <th>pay_period</th>\n",
       "      <th>views</th>\n",
       "      <th>med_salary</th>\n",
       "      <th>min_salary</th>\n",
       "      <th>applies</th>\n",
       "      <th>original_listed_time</th>\n",
       "      <th>expiry</th>\n",
       "      <th>closed_time</th>\n",
       "      <th>listed_time</th>\n",
       "      <th>currency</th>\n",
       "      <th>normalized_salary</th>\n",
       "    </tr>\n",
       "  </thead>\n",
       "  <tbody>\n",
       "    <tr>\n",
       "      <th>0</th>\n",
       "      <td>921716</td>\n",
       "      <td>20.0</td>\n",
       "      <td>HOURLY</td>\n",
       "      <td>20.0</td>\n",
       "      <td>NaN</td>\n",
       "      <td>17.0</td>\n",
       "      <td>2.0</td>\n",
       "      <td>1713397508000</td>\n",
       "      <td>1715989508000</td>\n",
       "      <td>NaN</td>\n",
       "      <td>1713397508000</td>\n",
       "      <td>USD</td>\n",
       "      <td>38480.0</td>\n",
       "    </tr>\n",
       "    <tr>\n",
       "      <th>1</th>\n",
       "      <td>1829192</td>\n",
       "      <td>50.0</td>\n",
       "      <td>HOURLY</td>\n",
       "      <td>1.0</td>\n",
       "      <td>NaN</td>\n",
       "      <td>30.0</td>\n",
       "      <td>NaN</td>\n",
       "      <td>1712857887000</td>\n",
       "      <td>1715449887000</td>\n",
       "      <td>NaN</td>\n",
       "      <td>1712857887000</td>\n",
       "      <td>USD</td>\n",
       "      <td>83200.0</td>\n",
       "    </tr>\n",
       "    <tr>\n",
       "      <th>2</th>\n",
       "      <td>10998357</td>\n",
       "      <td>65000.0</td>\n",
       "      <td>YEARLY</td>\n",
       "      <td>8.0</td>\n",
       "      <td>NaN</td>\n",
       "      <td>45000.0</td>\n",
       "      <td>NaN</td>\n",
       "      <td>1713277614000</td>\n",
       "      <td>1715869614000</td>\n",
       "      <td>NaN</td>\n",
       "      <td>1713277614000</td>\n",
       "      <td>USD</td>\n",
       "      <td>55000.0</td>\n",
       "    </tr>\n",
       "    <tr>\n",
       "      <th>3</th>\n",
       "      <td>23221523</td>\n",
       "      <td>175000.0</td>\n",
       "      <td>YEARLY</td>\n",
       "      <td>16.0</td>\n",
       "      <td>NaN</td>\n",
       "      <td>140000.0</td>\n",
       "      <td>NaN</td>\n",
       "      <td>1712895812000</td>\n",
       "      <td>1715487812000</td>\n",
       "      <td>NaN</td>\n",
       "      <td>1712895812000</td>\n",
       "      <td>USD</td>\n",
       "      <td>157500.0</td>\n",
       "    </tr>\n",
       "    <tr>\n",
       "      <th>4</th>\n",
       "      <td>35982263</td>\n",
       "      <td>80000.0</td>\n",
       "      <td>YEARLY</td>\n",
       "      <td>3.0</td>\n",
       "      <td>NaN</td>\n",
       "      <td>60000.0</td>\n",
       "      <td>NaN</td>\n",
       "      <td>1713451943000</td>\n",
       "      <td>1716043943000</td>\n",
       "      <td>NaN</td>\n",
       "      <td>1713451943000</td>\n",
       "      <td>USD</td>\n",
       "      <td>70000.0</td>\n",
       "    </tr>\n",
       "  </tbody>\n",
       "</table>\n",
       "</div>"
      ],
      "text/plain": [
       "     job_id  max_salary pay_period  views  med_salary  min_salary  applies  \\\n",
       "0    921716        20.0     HOURLY   20.0         NaN        17.0      2.0   \n",
       "1   1829192        50.0     HOURLY    1.0         NaN        30.0      NaN   \n",
       "2  10998357     65000.0     YEARLY    8.0         NaN     45000.0      NaN   \n",
       "3  23221523    175000.0     YEARLY   16.0         NaN    140000.0      NaN   \n",
       "4  35982263     80000.0     YEARLY    3.0         NaN     60000.0      NaN   \n",
       "\n",
       "   original_listed_time         expiry  closed_time    listed_time currency  \\\n",
       "0         1713397508000  1715989508000          NaN  1713397508000      USD   \n",
       "1         1712857887000  1715449887000          NaN  1712857887000      USD   \n",
       "2         1713277614000  1715869614000          NaN  1713277614000      USD   \n",
       "3         1712895812000  1715487812000          NaN  1712895812000      USD   \n",
       "4         1713451943000  1716043943000          NaN  1713451943000      USD   \n",
       "\n",
       "   normalized_salary  \n",
       "0            38480.0  \n",
       "1            83200.0  \n",
       "2            55000.0  \n",
       "3           157500.0  \n",
       "4            70000.0  "
      ]
     },
     "execution_count": 6,
     "metadata": {},
     "output_type": "execute_result"
    }
   ],
   "source": [
    "df_numerical = pd.read_sql('SELECT * FROM numerical_postings', conn)\n",
    "df_numerical.head()"
   ]
  },
  {
   "cell_type": "code",
   "execution_count": 7,
   "metadata": {},
   "outputs": [
    {
     "name": "stdout",
     "output_type": "stream",
     "text": [
      "job_id                     3904911743\n",
      "max_salary                120000000.0\n",
      "pay_period                     YEARLY\n",
      "views                            31.0\n",
      "med_salary                        NaN\n",
      "min_salary                 85000000.0\n",
      "applies                           2.0\n",
      "original_listed_time    1713448770000\n",
      "expiry                  1729000576000\n",
      "closed_time                       NaN\n",
      "listed_time             1713448770000\n",
      "currency                          USD\n",
      "normalized_salary         102500000.0\n",
      "Name: 94881, dtype: object\n"
     ]
    }
   ],
   "source": [
    "print(df_numerical.loc[df_numerical['max_salary'].idxmax()])"
   ]
  },
  {
   "cell_type": "code",
   "execution_count": 8,
   "metadata": {},
   "outputs": [
    {
     "data": {
      "text/plain": [
       "currency\n",
       "None    87776\n",
       "USD     36058\n",
       "EUR         6\n",
       "CAD         3\n",
       "BBD         2\n",
       "AUD         2\n",
       "GBP         2\n",
       "Name: count, dtype: int64"
      ]
     },
     "execution_count": 8,
     "metadata": {},
     "output_type": "execute_result"
    }
   ],
   "source": [
    "df_numerical['currency'].value_counts(dropna=False)"
   ]
  },
  {
   "cell_type": "code",
   "execution_count": 9,
   "metadata": {},
   "outputs": [
    {
     "data": {
      "text/plain": [
       "currency\n",
       "None    87776\n",
       "USD     36058\n",
       "EUR         6\n",
       "CAD         3\n",
       "BBD         2\n",
       "AUD         2\n",
       "GBP         2\n",
       "Name: count, dtype: int64"
      ]
     },
     "execution_count": 9,
     "metadata": {},
     "output_type": "execute_result"
    }
   ],
   "source": [
    "#CONVERTING NULL TO USD\n",
    "#df_numerical['currency'] = df_numerical['currency'].fillna('USD')\n",
    "\n",
    "#CONVERTING CURRENCIES TO USD\n",
    "conversion_rates = {'USD': 1, 'EUR': 1.18, 'GBP': 1.38, 'AUD': 0.74, 'CAD': 0.79, 'BBD': 0.50}\n",
    "\n",
    "df_numerical['max_salary'] = df_numerical.apply(\n",
    "    lambda x: conversion_rates[x['currency']] * x['max_salary']\n",
    "    if not pd.isna(x['currency']) and not pd.isna(x['max_salary'])\n",
    "    else np.nan,\n",
    "    axis=1\n",
    ")\n",
    "\n",
    "df_numerical['max_salary'] = df_numerical.apply(\n",
    "    lambda x: conversion_rates[x['currency']] * x['max_salary']\n",
    "    if not pd.isna(x['currency']) and not pd.isna(x['max_salary'])\n",
    "    else np.nan,\n",
    "    axis=1\n",
    ")\n",
    "\n",
    "df_numerical['min_salary'] = df_numerical.apply(\n",
    "    lambda x: conversion_rates[x['currency']] * x['min_salary']\n",
    "    if not pd.isna(x['currency']) and not pd.isna(x['min_salary'])\n",
    "    else np.nan,\n",
    "    axis=1\n",
    ")\n",
    "\n",
    "df_numerical['med_salary'] = df_numerical.apply(\n",
    "    lambda x: conversion_rates[x['currency']] * x['med_salary']\n",
    "    if not pd.isna(x['currency']) and not pd.isna(x['med_salary'])\n",
    "    else np.nan,\n",
    "    axis=1\n",
    ")\n",
    "\n",
    "df_numerical['normalized_salary'] = df_numerical.apply(\n",
    "    lambda x: conversion_rates[x['currency']] * x['normalized_salary']\n",
    "    if not pd.isna(x['currency']) and not pd.isna(x['normalized_salary'])\n",
    "    else np.nan,\n",
    "    axis=1\n",
    ")\n",
    "\n",
    "df_numerical['currency'].value_counts(dropna=False)"
   ]
  },
  {
   "cell_type": "code",
   "execution_count": null,
   "metadata": {},
   "outputs": [
    {
     "data": {
      "text/plain": [
       "pay_period\n",
       "None        87776\n",
       "YEARLY      20628\n",
       "HOURLY      14741\n",
       "MONTHLY       518\n",
       "WEEKLY        177\n",
       "BIWEEKLY        9\n",
       "Name: count, dtype: int64"
      ]
     },
     "execution_count": 11,
     "metadata": {},
     "output_type": "execute_result"
    }
   ],
   "source": [
    "#CONVERTING PAY PERIOD TO ANNUAL SALARY\n",
    "time_multiplier = {'HOURLY': 40*52, 'WEEKLY': 52, 'BIWEEKLY': 26, 'MONTHLY': 12, 'YEARLY': 1}\n",
    "\n",
    "def convert_to_annual_max(row):\n",
    "    if not pd.isna(row['max_salary']):\n",
    "        if not pd.isna(row['pay_period']):\n",
    "            if not (row['pay_period'] == 'HOURLY' and row['max_salary'] > 10000):\n",
    "                return time_multiplier[row['pay_period']] * row['max_salary']\n",
    "    return row['max_salary']\n",
    "    \n",
    "def convert_to_annual_med(row):\n",
    "    if not pd.isna(row['med_salary']):\n",
    "        if not pd.isna(row['pay_period']):\n",
    "            if not (row['pay_period'] == 'HOURLY' and row['med_salary'] > 10000):\n",
    "                return time_multiplier[row['pay_period']] * row['med_salary']\n",
    "    return row['med_salary']\n",
    "\n",
    "def convert_to_annual_min(row):\n",
    "    if not pd.isna(row['min_salary']):\n",
    "        if not pd.isna(row['pay_period']):\n",
    "            if not (row['pay_period'] == 'HOURLY' and row['min_salary'] > 10000):\n",
    "                return time_multiplier[row['pay_period']] * row['min_salary']\n",
    "    return row['min_salary']\n",
    "    \n",
    "\n",
    "\n",
    "\n",
    "df_numerical['max_salary'] = df_numerical.apply(\n",
    "    convert_to_annual_max,\n",
    "    axis=1\n",
    ")\n",
    "\n",
    "\n",
    "df_numerical['min_salary'] = df_numerical.apply(\n",
    "    convert_to_annual_min,\n",
    "    axis=1\n",
    ")\n",
    "\n",
    "df_numerical['med_salary'] = df_numerical.apply(\n",
    "    convert_to_annual_med,\n",
    "    axis=1\n",
    ")\n",
    "\n",
    "df_numerical['pay_period'].value_counts(dropna=False)"
   ]
  },
  {
   "cell_type": "code",
   "execution_count": 12,
   "metadata": {},
   "outputs": [
    {
     "data": {
      "text/plain": [
       "max_salary\n",
       "NaN         94056\n",
       "150000.0      648\n",
       "100000.0      634\n",
       "120000.0      610\n",
       "90000.0       541\n",
       "            ...  \n",
       "58968.0         1\n",
       "333400.0        1\n",
       "178600.0        1\n",
       "89303.0         1\n",
       "230300.0        1\n",
       "Name: count, Length: 5334, dtype: int64"
      ]
     },
     "execution_count": 12,
     "metadata": {},
     "output_type": "execute_result"
    }
   ],
   "source": [
    "df_numerical['max_salary'].value_counts(dropna=False)"
   ]
  },
  {
   "cell_type": "code",
   "execution_count": 13,
   "metadata": {},
   "outputs": [
    {
     "name": "stdout",
     "output_type": "stream",
     "text": [
      "job_id                     3904911743\n",
      "max_salary                120000000.0\n",
      "pay_period                     YEARLY\n",
      "views                            31.0\n",
      "med_salary                        NaN\n",
      "min_salary                 85000000.0\n",
      "applies                           2.0\n",
      "original_listed_time    1713448770000\n",
      "expiry                  1729000576000\n",
      "closed_time                       NaN\n",
      "listed_time             1713448770000\n",
      "currency                          USD\n",
      "normalized_salary         102500000.0\n",
      "Name: 94881, dtype: object\n"
     ]
    }
   ],
   "source": [
    "print(df_numerical.loc[df_numerical['max_salary'].idxmax()])"
   ]
  },
  {
   "cell_type": "markdown",
   "metadata": {},
   "source": [
    "Now all salary data is in usd, annual pay"
   ]
  },
  {
   "cell_type": "code",
   "execution_count": 15,
   "metadata": {},
   "outputs": [],
   "source": [
    "df_numerical.to_sql('clean_numerical_postings', conn, if_exists='replace', index = False)\n",
    "conn.commit()"
   ]
  },
  {
   "cell_type": "code",
   "execution_count": 38,
   "metadata": {},
   "outputs": [],
   "source": [
    "conn.close()"
   ]
  }
 ],
 "metadata": {
  "kernelspec": {
   "display_name": ".venv",
   "language": "python",
   "name": "python3"
  },
  "language_info": {
   "codemirror_mode": {
    "name": "ipython",
    "version": 3
   },
   "file_extension": ".py",
   "mimetype": "text/x-python",
   "name": "python",
   "nbconvert_exporter": "python",
   "pygments_lexer": "ipython3",
   "version": "3.12.9"
  }
 },
 "nbformat": 4,
 "nbformat_minor": 2
}
