{
 "cells": [
  {
   "cell_type": "code",
   "execution_count": null,
   "metadata": {},
   "outputs": [],
   "source": [
    "#run this only after completing data_preprocessing.ipynb execution\n",
    "# Imports\n",
    "import pandas as pd \n",
    "import sqlite3"
   ]
  },
  {
   "cell_type": "code",
   "execution_count": 3,
   "metadata": {},
   "outputs": [
    {
     "name": "stdout",
     "output_type": "stream",
     "text": [
      "Opened database successfully\n"
     ]
    }
   ],
   "source": [
    "#creates or opens linkedindatabase.db, connects to it and creates a cursor object\n",
    "file_path = r\"C:\\Users\\Sarah\\Code\\ProyectoABD\\database\\linkedindatabase.db\"\n",
    "conn = sqlite3.connect(file_path)\n",
    "cur = conn.cursor()\n",
    "print(\"Opened database successfully\")"
   ]
  },
  {
   "cell_type": "code",
   "execution_count": 5,
   "metadata": {},
   "outputs": [
    {
     "name": "stdout",
     "output_type": "stream",
     "text": [
      "Data inserted successfully\n"
     ]
    }
   ],
   "source": [
    "#loads combined_postings into the database\n",
    "file_path = r\"C:\\Users\\Sarah\\Code\\ProyectoABD\\linkedindata\\combined_postings.xlsx\"\n",
    "df = pd.read_excel(file_path)\n",
    "df.to_sql('postings', conn, if_exists='replace', index = False)\n",
    "conn.commit()\n",
    "print(\"Data inserted successfully\")"
   ]
  },
  {
   "cell_type": "code",
   "execution_count": 4,
   "metadata": {},
   "outputs": [
    {
     "name": "stdout",
     "output_type": "stream",
     "text": [
      "Data inserted successfully\n"
     ]
    }
   ],
   "source": [
    "#loads tables from folder 'companies' into the database\n",
    "file_path = r\"C:\\Users\\Sarah\\Code\\ProyectoABD\\linkedindata\\companies\\companies.csv\"\n",
    "df = pd.read_csv(file_path)\n",
    "df.to_sql('companies', conn, if_exists='replace', index = False)\n",
    "\n",
    "file_path = r\"C:\\Users\\Sarah\\Code\\ProyectoABD\\linkedindata\\companies\\company_industries.csv\"\n",
    "df = pd.read_csv(file_path)\n",
    "df.to_sql('company_industries', conn, if_exists='replace', index = False)\n",
    "\n",
    "file_path = r\"C:\\Users\\Sarah\\Code\\ProyectoABD\\linkedindata\\companies\\company_specialities.csv\"\n",
    "df = pd.read_csv(file_path)\n",
    "df.to_sql('company_specialities', conn, if_exists='replace', index = False)\n",
    "\n",
    "file_path = r\"C:\\Users\\Sarah\\Code\\ProyectoABD\\linkedindata\\companies\\employee_counts.csv\"\n",
    "df = pd.read_csv(file_path)\n",
    "df.to_sql('employee_counts', conn, if_exists='replace', index = False)\n",
    "\n",
    "conn.commit()\n",
    "print(\"Data inserted successfully\")"
   ]
  },
  {
   "cell_type": "code",
   "execution_count": 6,
   "metadata": {},
   "outputs": [
    {
     "name": "stdout",
     "output_type": "stream",
     "text": [
      "Data inserted successfully\n"
     ]
    }
   ],
   "source": [
    "#loads tables from folder 'jobs' into the database\n",
    "file_path = r\"C:\\Users\\Sarah\\Code\\ProyectoABD\\linkedindata\\jobs\\benefits.csv\"\n",
    "df = pd.read_csv(file_path)\n",
    "df.to_sql('benefits', conn, if_exists='replace', index = False)\n",
    "\n",
    "file_path = r\"C:\\Users\\Sarah\\Code\\ProyectoABD\\linkedindata\\jobs\\job_industries.csv\"\n",
    "df = pd.read_csv(file_path)\n",
    "df.to_sql('job_industries', conn, if_exists='replace', index = False)\n",
    "\n",
    "file_path = r\"C:\\Users\\Sarah\\Code\\ProyectoABD\\linkedindata\\jobs\\job_skills.csv\"\n",
    "df = pd.read_csv(file_path)\n",
    "df.to_sql('job_skills', conn, if_exists='replace', index = False)\n",
    "\n",
    "file_path = r\"C:\\Users\\Sarah\\Code\\ProyectoABD\\linkedindata\\jobs\\salaries.csv\"\n",
    "df = pd.read_csv(file_path)\n",
    "df.to_sql('salaries', conn, if_exists='replace', index = False)\n",
    "\n",
    "conn.commit()\n",
    "print(\"Data inserted successfully\")"
   ]
  },
  {
   "cell_type": "code",
   "execution_count": 7,
   "metadata": {},
   "outputs": [
    {
     "name": "stdout",
     "output_type": "stream",
     "text": [
      "Data inserted successfully\n"
     ]
    }
   ],
   "source": [
    "#loads tables from folder 'mappings' into the database\n",
    "file_path = r\"C:\\Users\\Sarah\\Code\\ProyectoABD\\linkedindata\\mappings\\industries.csv\"\n",
    "df = pd.read_csv(file_path)\n",
    "df.to_sql('industries', conn, if_exists='replace', index = False)\n",
    "\n",
    "file_path = r\"C:\\Users\\Sarah\\Code\\ProyectoABD\\linkedindata\\mappings\\skills.csv\"\n",
    "df = pd.read_csv(file_path)\n",
    "df.to_sql('skills', conn, if_exists='replace', index = False)\n",
    "\n",
    "conn.commit()\n",
    "print(\"Data inserted successfully\")"
   ]
  },
  {
   "cell_type": "code",
   "execution_count": 8,
   "metadata": {},
   "outputs": [
    {
     "name": "stdout",
     "output_type": "stream",
     "text": [
      "Connection closed\n"
     ]
    }
   ],
   "source": [
    "#closes cursor and connection\n",
    "cur.close()\n",
    "conn.close()\n",
    "print(\"Connection closed\")"
   ]
  }
 ],
 "metadata": {
  "kernelspec": {
   "display_name": ".venv",
   "language": "python",
   "name": "python3"
  },
  "language_info": {
   "codemirror_mode": {
    "name": "ipython",
    "version": 3
   },
   "file_extension": ".py",
   "mimetype": "text/x-python",
   "name": "python",
   "nbconvert_exporter": "python",
   "pygments_lexer": "ipython3",
   "version": "3.12.9"
  }
 },
 "nbformat": 4,
 "nbformat_minor": 2
}
