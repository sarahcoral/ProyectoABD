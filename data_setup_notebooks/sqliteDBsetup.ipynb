{
 "cells": [
  {
   "cell_type": "code",
   "execution_count": null,
   "metadata": {},
   "outputs": [],
   "source": [
    "#IMPORTS\n",
    "import pandas as pd \n",
    "import sqlite3\n",
    "from pathlib import Path"
   ]
  },
  {
   "cell_type": "code",
   "execution_count": null,
   "metadata": {},
   "outputs": [],
   "source": [
    "#FUNCTIONS\n",
    "def load_to_db(file_path:Path, name:str, conn: sqlite3.Connection,excel:bool=False):\n",
    "    if file_path.exists():\n",
    "        if excel:\n",
    "            df = pd.read_excel(file_path)\n",
    "        else:\n",
    "            df = pd.read_csv(file_path)\n",
    "        df.to_sql(name, conn, if_exists='replace', index = False)\n",
    "        print(f\"loaded {name} into database\")\n",
    "    else:\n",
    "        raise FileNotFoundError(f\"Error: {file_path} not found\")"
   ]
  },
  {
   "cell_type": "code",
   "execution_count": null,
   "metadata": {},
   "outputs": [],
   "source": [
    "# Set the file paths\n",
    "project_folder = Path.cwd().parent\n",
    "linkedindata_path = project_folder / \"linkedindata\""
   ]
  },
  {
   "cell_type": "code",
   "execution_count": 7,
   "metadata": {},
   "outputs": [
    {
     "name": "stdout",
     "output_type": "stream",
     "text": [
      "Opened database successfully\n"
     ]
    }
   ],
   "source": [
    "#creates or opens linkedindatabase.db, connects to it and creates a cursor object\n",
    "database_file_path = project_folder / \"database\" / \"linkedindatabase.db\"\n",
    "conn = sqlite3.connect(database_file_path)\n",
    "cur = conn.cursor()\n",
    "print(\"Opened database successfully\")"
   ]
  },
  {
   "cell_type": "code",
   "execution_count": null,
   "metadata": {},
   "outputs": [
    {
     "name": "stdout",
     "output_type": "stream",
     "text": [
      "loaded postings into database\n",
      "Data inserted successfully\n"
     ]
    }
   ],
   "source": [
    "#loads combined_postings into the database\n",
    "combined_postings_path = linkedindata_path / \"combined_postings.xlsx\"\n",
    "if combined_postings_path.exists():\n",
    "    load_to_db(combined_postings_path, 'postings',conn,excel=True)\n",
    "else:\n",
    "    load_to_db(linkedindata_path / \"postings.csv\", 'postings',conn)\n",
    "conn.commit()\n",
    "print(\"Data inserted successfully\")"
   ]
  },
  {
   "cell_type": "code",
   "execution_count": null,
   "metadata": {},
   "outputs": [
    {
     "name": "stdout",
     "output_type": "stream",
     "text": [
      "Data inserted successfully\n"
     ]
    }
   ],
   "source": [
    "#load tables from folder 'companies' into the database\n",
    "companies_path = linkedindata_path / \"companies\"\n",
    "\n",
    "load_to_db(companies_path / \"companies.csv\", 'companies',conn)\n",
    "load_to_db(companies_path / \"company_industries.csv\", 'company_industries',conn)\n",
    "load_to_db(companies_path / \"company_specialities.csv\", 'company_specialities',conn)\n",
    "load_to_db(companies_path / \"employee_counts.csv\", 'employee_counts',conn)\n",
    "\n",
    "conn.commit()\n",
    "print(\"Data inserted successfully\")"
   ]
  },
  {
   "cell_type": "code",
   "execution_count": null,
   "metadata": {},
   "outputs": [],
   "source": [
    "#loads tables from folder 'jobs' into the database\n",
    "jobs_path = linkedindata_path / \"jobs\"\n",
    "\n",
    "load_to_db(jobs_path / \"benefits.csv\", 'benefits',conn)\n",
    "load_to_db(jobs_path / \"job_industries.csv\", 'job_industries',conn)\n",
    "load_to_db(jobs_path / \"job_skills.csv\", 'job_skills',conn)\n",
    "load_to_db(jobs_path / \"salaries.csv\", 'salaries',conn)\n",
    "\n",
    "conn.commit()\n",
    "print(\"Data inserted successfully\")"
   ]
  },
  {
   "cell_type": "code",
   "execution_count": null,
   "metadata": {},
   "outputs": [
    {
     "name": "stdout",
     "output_type": "stream",
     "text": [
      "Data inserted successfully\n"
     ]
    }
   ],
   "source": [
    "#loads tables from folder 'mappings' into the database\n",
    "mappings_path = linkedindata_path / \"mappings\"\n",
    "\n",
    "load_to_db(mappings_path / \"industries.csv\", 'industries',conn)\n",
    "load_to_db(mappings_path / \"skills.csv\", 'skills',conn)\n",
    "\n",
    "conn.commit()\n",
    "print(\"Data inserted successfully\")"
   ]
  },
  {
   "cell_type": "code",
   "execution_count": 8,
   "metadata": {},
   "outputs": [
    {
     "name": "stdout",
     "output_type": "stream",
     "text": [
      "Connection closed\n"
     ]
    }
   ],
   "source": [
    "#closes cursor and connection\n",
    "cur.close()\n",
    "conn.close()\n",
    "print(\"Connection closed\")"
   ]
  }
 ],
 "metadata": {
  "kernelspec": {
   "display_name": ".venv",
   "language": "python",
   "name": "python3"
  },
  "language_info": {
   "codemirror_mode": {
    "name": "ipython",
    "version": 3
   },
   "file_extension": ".py",
   "mimetype": "text/x-python",
   "name": "python",
   "nbconvert_exporter": "python",
   "pygments_lexer": "ipython3",
   "version": "3.12.9"
  }
 },
 "nbformat": 4,
 "nbformat_minor": 2
}
