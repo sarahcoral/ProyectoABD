{
 "cells": [
  {
   "cell_type": "code",
   "execution_count": 1,
   "metadata": {},
   "outputs": [
    {
     "name": "stdout",
     "output_type": "stream",
     "text": [
      "Project folder set to C:\\Users\\Sarah\\Code\\ProyectoABD for load_database.ipynb\n",
      "test script loaded!\n"
     ]
    },
    {
     "name": "stdout",
     "output_type": "stream",
     "text": [
      "Project folder set to C:\\Users\\Sarah\\Code\\ProyectoABD for load_database.py\n",
      "You're running on local\n",
      "Database already loaded!\n"
     ]
    }
   ],
   "source": [
    "#SET PROJECT FOLDER MAIN DIRECTORY\n",
    "from pathlib import Path\n",
    "project_folder = Path.cwd().parent.parent\n",
    "print(f\"Project folder set to {project_folder} for load_database.ipynb\")\n",
    "scripts_folder = project_folder / \"Scripts\"\n",
    "\n",
    "#MODULE PATHS\n",
    "import sys\n",
    "#sys.path.append(str(project_folder))\n",
    "\n",
    "# MODULE IMPORTS\n",
    "sys.path.append(str(scripts_folder))\n",
    "import test_script\n",
    "import load_database\n",
    "\n",
    "test_script.do_something()\n",
    "load_database.load_db(project_folder)\n",
    "\n"
   ]
  }
 ],
 "metadata": {
  "kernelspec": {
   "display_name": ".venv",
   "language": "python",
   "name": "python3"
  },
  "language_info": {
   "codemirror_mode": {
    "name": "ipython",
    "version": 3
   },
   "file_extension": ".py",
   "mimetype": "text/x-python",
   "name": "python",
   "nbconvert_exporter": "python",
   "pygments_lexer": "ipython3",
   "version": "3.12.9"
  }
 },
 "nbformat": 4,
 "nbformat_minor": 2
}