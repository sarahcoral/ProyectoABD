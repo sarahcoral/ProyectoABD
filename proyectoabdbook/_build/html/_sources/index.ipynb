{
 "cells": [
  {
   "cell_type": "markdown",
   "metadata": {},
   "source": [
    "<div align=\"center\">\n",
    "   <h1>Análisis del Mercado Laboral</h1>\n",
    "   <h2>ofertas en Linkedin 2023 y 2024</h2>\n",
    "</div>"
   ]
  },
  {
   "cell_type": "markdown",
   "metadata": {},
   "source": [
    "<p><strong>Narly Tatiana Cipagauta Mora</strong> - ncipagauta@unal.edu.co</p>\n",
    "<p><strong>Karla Estefanía Murillo López</strong> - kamurillo@unal.edu.co</p>\n",
    "<p><strong>Sarah Daniella Coral Zúñiga</strong> - scoralz@unal.edu.co</p>\n",
    "<p><strong>Stiven Leonardo Sánchez León</strong> - stsanchezl@unal.edu.co</p>"
   ]
  }
 ],
 "metadata": {
  "kernelspec": {
   "display_name": ".venv",
   "language": "python",
   "name": "python3"
  },
  "language_info": {
   "codemirror_mode": {
    "name": "ipython",
    "version": 3
   },
   "file_extension": ".py",
   "mimetype": "text/x-python",
   "name": "python",
   "nbconvert_exporter": "python",
   "pygments_lexer": "ipython3",
   "version": "3.12.9"
  }
 },
 "nbformat": 4,
 "nbformat_minor": 2
}
