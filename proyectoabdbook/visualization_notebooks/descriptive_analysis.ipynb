{
 "cells": [
  {
   "cell_type": "markdown",
   "metadata": {},
   "source": [
    "# ANÁLISIS DESCRIPTIVO\n",
    "\n",
    "A continuación se presenta una descripción y visualización de los datos"
   ]
  },
  {
   "cell_type": "code",
   "execution_count": 21,
   "metadata": {},
   "outputs": [
    {
     "name": "stdout",
     "output_type": "stream",
     "text": [
      "Local configuration file loaded succesfully\n",
      "Project folder set to c:\\Users\\Sarah\\Code\\ProyectoABD for load_database.py\n",
      "You're running on local\n",
      "Database already loaded!\n",
      "Opened database successfully\n"
     ]
    }
   ],
   "source": [
    "# IMPORTS\n",
    "import sys\n",
    "import json\n",
    "from pathlib import Path\n",
    "import sqlite3\n",
    "import pandas as pd\n",
    "import numpy as np\n",
    "import matplotlib.pyplot as plt\n",
    "import seaborn as sns\n",
    "from IPython.display import display, Markdown\n",
    "import matplotlib.ticker as ticker\n",
    "\n",
    "# SET PROJECT FOLDER\n",
    "project_folder = Path.cwd().parent.parent\n",
    "\n",
    "# LOAD LOCAL_SETUP_CONFIG FILE\n",
    "config_path = project_folder / \"local_setup_config.json\"\n",
    "if config_path.exists():\n",
    "    with open(config_path, \"r\", encoding=\"utf-8\") as file:\n",
    "        local_config  = json.load(file)\n",
    "    print('Local configuration file loaded succesfully')\n",
    "else:\n",
    "    raise FileNotFoundError(f\"Error: {config_path} not found\")\n",
    "\n",
    "# set run_local\n",
    "run_local = local_config[\"run_local\"]\n",
    "\n",
    "# MODULE PATHS\n",
    "scripts_folder = project_folder / \"Scripts\"\n",
    "sys.path.append(str(scripts_folder))\n",
    "\n",
    "# MODULE IMPORTS\n",
    "import test_script\n",
    "import load_database\n",
    "\n",
    "# LOAD DATABASE\n",
    "load_database.load_db(project_folder)\n",
    "\n",
    "# DATABASE CONNECTION\n",
    "if run_local:\n",
    "    linkedindatabase_path = project_folder / \"database\" / \"linkedindatabase.db\"\n",
    "else:\n",
    "    linkedindatabase_path = project_folder / \"database\" / \"linkedindatabase.db\"\n",
    "\n",
    "if linkedindatabase_path.exists():\n",
    "    conn = sqlite3.connect(linkedindatabase_path)\n",
    "    print(\"Opened database successfully\")\n",
    "else:\n",
    "    raise FileNotFoundError(f\"Error: {linkedindatabase_path} not found\")"
   ]
  },
  {
   "cell_type": "code",
   "execution_count": 22,
   "metadata": {},
   "outputs": [],
   "source": [
    "#DATAFRAMES CREATION\n",
    "\n",
    "#numerical data\n",
    "df_num = pd.read_sql('SELECT * FROM clean_numerical_postings', conn)\n",
    "\n",
    "df_num = df_num[df_num['max_salary'] <= 10000000]\n",
    "df_num = df_num[df_num['min_salary'] <= 10000000]\n",
    "df_num = df_num[df_num['normalized_salary'] <= 10000000]\n",
    "\n",
    "df_num = df_num[df_num['max_salary'] > 100]\n",
    "df_num = df_num[df_num['min_salary'] > 100]\n",
    "df_num = df_num[df_num['normalized_salary'] > 100]\n",
    "\n",
    "#postings\n",
    "df_postings = pd.read_sql('SELECT * FROM postings', conn)\n",
    "\n",
    "#companies\n",
    "df_companies = pd.read_sql('SELECT * FROM companies', conn)\n",
    "\n",
    "#industries\n",
    "df_industries = pd.read_sql('SELECT * FROM industries', conn)\n",
    "\n",
    "#job industries\n",
    "df_job_industries = pd.read_sql('SELECT * FROM job_industries', conn)\n",
    "\n",
    "#skills\n",
    "df_skills = pd.read_sql('SELECT * FROM skills', conn)\n",
    "\n",
    "#job skills\n",
    "df_job_skills = pd.read_sql('SELECT * FROM job_skills', conn)\n",
    "\n"
   ]
  },
  {
   "cell_type": "code",
   "execution_count": 3,
   "metadata": {},
   "outputs": [],
   "source": [
    "#FUNCTIONS\n",
    "\n",
    "#Convert dict to Markdown table\n",
    "def dict_to_markdown(data):\n",
    "    headers= \"| \" + \" | \".join(data.keys()) + \" |\"\n",
    "    separator = \"| \" + \" | \".join([\"---\"]*len(data)) + \" |\"\n",
    "    rows = []\n",
    "    for i in range(len(next(iter(data.values())))):\n",
    "        row = \"| \" + \" | \".join(f\"{data[key][i]:,}\" if isinstance(data[key][i], float) else str(data[key][i])for key in data) + \" |\"\n",
    "        rows.append(row)\n",
    "    return \"\\n\".join([headers, separator] + rows)\n",
    "\n",
    "#Convert dict to Dataframe table\n",
    "def dict_to_dataframe_table(data:dict,cols_key:str):\n",
    "    data_keys = [*data]\n",
    "    data_keys.remove(cols_key)\n",
    "    subset_data = {k: data[k] for k in data_keys}\n",
    "    return pd.DataFrame.from_dict(subset_data, orient='index', columns=data[cols_key])\n",
    "\n",
    "# Calcular coef. de asimetría de cada columna\n",
    "def asim(col):\n",
    "    # Calculamos la media de la columna\n",
    "    media = col.mean()\n",
    "\n",
    "    # Calculamos la desviacion estandar\n",
    "    std = col.std()\n",
    "\n",
    "    # Calculamos el 3er momento alrededor del centro\n",
    "    momento_3 = ((col - media) ** 3).mean()\n",
    "\n",
    "    asim = momento_3*(1/(std**3))\n",
    "    return asim"
   ]
  },
  {
   "cell_type": "markdown",
   "metadata": {},
   "source": [
    "## Análisis Estadístico Básico\n",
    "\n",
    "se realiza un análisis estadístico básico para los siguientes atributos de cada publicación de trabajo:\n",
    "\n",
    "* Rango Salarial ofrecido para el puesto\n",
    "* Número de vistas\n",
    "* Número de aplicaciones recibidas\n",
    "* Duración de la publicación\n",
    "\n",
    "se visualizan algunas medidas de centralización y de dispersión"
   ]
  },
  {
   "cell_type": "markdown",
   "metadata": {},
   "source": [
    "### Rango salarial"
   ]
  },
  {
   "cell_type": "code",
   "execution_count": 23,
   "metadata": {},
   "outputs": [],
   "source": [
    "nor_salary_insights = df_num[df_num['normalized_salary'].notnull()]\n",
    "nor_salary_insights = nor_salary_insights.sort_values(by='normalized_salary', ascending=False)\n",
    "nor_salary_insights = nor_salary_insights[nor_salary_insights['normalized_salary'] != 0]\n",
    "nor_salary_insights.rename(columns={'normalized_salary': 'salary'}, inplace=True)\n",
    "nor_salary_insights['category'] = 'normalized_salary'\n",
    "\n",
    "max_salary_insights = df_num[df_num['max_salary'].notnull()]\n",
    "max_salary_insights = max_salary_insights.sort_values(by='max_salary', ascending=False)\n",
    "max_salary_insights = max_salary_insights[max_salary_insights['max_salary'] != 0]\n",
    "max_salary_insights.rename(columns={'max_salary': 'salary'}, inplace=True)\n",
    "max_salary_insights['category'] = 'max_salary'\n",
    "\n",
    "min_salary_insights = df_num[df_num['min_salary'].notnull()]\n",
    "min_salary_insights = min_salary_insights.sort_values(by='min_salary', ascending=False)\n",
    "min_salary_insights = min_salary_insights[min_salary_insights['min_salary'] != 0]\n",
    "min_salary_insights.rename(columns={'min_salary': 'salary'}, inplace=True)\n",
    "min_salary_insights['category'] = 'min_salary'\n",
    "\n",
    "salary_combined = pd.concat([nor_salary_insights, max_salary_insights, min_salary_insights], ignore_index=True)\n"
   ]
  },
  {
   "cell_type": "markdown",
   "metadata": {},
   "source": [
    "#### Medidas de Centralización"
   ]
  },
  {
   "cell_type": "code",
   "execution_count": 24,
   "metadata": {},
   "outputs": [
    {
     "data": {
      "text/html": [
       "<div>\n",
       "<style scoped>\n",
       "    .dataframe tbody tr th:only-of-type {\n",
       "        vertical-align: middle;\n",
       "    }\n",
       "\n",
       "    .dataframe tbody tr th {\n",
       "        vertical-align: top;\n",
       "    }\n",
       "\n",
       "    .dataframe thead th {\n",
       "        text-align: right;\n",
       "    }\n",
       "</style>\n",
       "<table border=\"1\" class=\"dataframe\">\n",
       "  <thead>\n",
       "    <tr style=\"text-align: right;\">\n",
       "      <th></th>\n",
       "      <th>Promedio</th>\n",
       "      <th>Mediana</th>\n",
       "      <th>Moda</th>\n",
       "    </tr>\n",
       "  </thead>\n",
       "  <tbody>\n",
       "    <tr>\n",
       "      <th>Salario medio</th>\n",
       "      <td>103627</td>\n",
       "      <td>90000.0</td>\n",
       "      <td>100000.0</td>\n",
       "    </tr>\n",
       "    <tr>\n",
       "      <th>Salario máximo</th>\n",
       "      <td>119840</td>\n",
       "      <td>102880.0</td>\n",
       "      <td>150000.0</td>\n",
       "    </tr>\n",
       "    <tr>\n",
       "      <th>Salario mínimo</th>\n",
       "      <td>87412</td>\n",
       "      <td>76500.0</td>\n",
       "      <td>100000.0</td>\n",
       "    </tr>\n",
       "  </tbody>\n",
       "</table>\n",
       "</div>"
      ],
      "text/plain": [
       "                Promedio   Mediana      Moda\n",
       "Salario medio     103627   90000.0  100000.0\n",
       "Salario máximo    119840  102880.0  150000.0\n",
       "Salario mínimo     87412   76500.0  100000.0"
      ]
     },
     "execution_count": 24,
     "metadata": {},
     "output_type": "execute_result"
    }
   ],
   "source": [
    "#mean salary\n",
    "\n",
    "mean_salary = nor_salary_insights['salary'].mean()\n",
    "mean_salary_max = max_salary_insights['salary'].mean()\n",
    "mean_salary_min = min_salary_insights['salary'].mean()\n",
    "\n",
    "#median salary\n",
    "\n",
    "median_salary = nor_salary_insights['salary'].median()\n",
    "median_salary_max = max_salary_insights['salary'].median()\n",
    "median_salary_min = min_salary_insights['salary'].median()\n",
    "\n",
    "#mode salary\n",
    "\n",
    "mode_salary = nor_salary_insights['salary'].mode()\n",
    "mode_salary_max = max_salary_insights['salary'].mode()\n",
    "mode_salary_min = min_salary_insights['salary'].mode()\n",
    "\n",
    "\n",
    "cent_data = {\n",
    "    'Medida': ['Promedio', 'Mediana', 'Moda'],\n",
    "    'Salario medio': [int(mean_salary), median_salary, float(mode_salary[0])],\n",
    "    'Salario máximo': [int(mean_salary_max), median_salary_max, float(mode_salary_max[0])],\n",
    "    'Salario mínimo': [int(mean_salary_min), median_salary_min, float(mode_salary_min[0])]\n",
    "}\n",
    "\n",
    "\n",
    "\n",
    "# Display Markdown table\n",
    "#markdown_table = dict_to_markdown(cent_data)\n",
    "#display(Markdown(markdown_table))\n",
    "\n",
    "# Display pandas dataframe table\n",
    "dict_to_dataframe_table(cent_data,'Medida')\n"
   ]
  },
  {
   "cell_type": "markdown",
   "metadata": {},
   "source": [
    "#### Medidas de Dispersión"
   ]
  },
  {
   "cell_type": "code",
   "execution_count": 25,
   "metadata": {},
   "outputs": [
    {
     "data": {
      "text/html": [
       "<div>\n",
       "<style scoped>\n",
       "    .dataframe tbody tr th:only-of-type {\n",
       "        vertical-align: middle;\n",
       "    }\n",
       "\n",
       "    .dataframe tbody tr th {\n",
       "        vertical-align: top;\n",
       "    }\n",
       "\n",
       "    .dataframe thead th {\n",
       "        text-align: right;\n",
       "    }\n",
       "</style>\n",
       "<table border=\"1\" class=\"dataframe\">\n",
       "  <thead>\n",
       "    <tr style=\"text-align: right;\">\n",
       "      <th></th>\n",
       "      <th>Varianza</th>\n",
       "      <th>Desviación Estándar</th>\n",
       "      <th>Rango</th>\n",
       "      <th>Coeficiente de Asimetría</th>\n",
       "      <th>Curtosis</th>\n",
       "    </tr>\n",
       "  </thead>\n",
       "  <tbody>\n",
       "    <tr>\n",
       "      <th>Salario medio</th>\n",
       "      <td>4.402867e+09</td>\n",
       "      <td>66354.103394</td>\n",
       "      <td>(110.0, 2096744.0)</td>\n",
       "      <td>6.070477</td>\n",
       "      <td>119.153350</td>\n",
       "    </tr>\n",
       "    <tr>\n",
       "      <th>Salario máximo</th>\n",
       "      <td>6.947264e+09</td>\n",
       "      <td>83350.246632</td>\n",
       "      <td>(115.0, 2339090.0)</td>\n",
       "      <td>5.878229</td>\n",
       "      <td>92.899850</td>\n",
       "    </tr>\n",
       "    <tr>\n",
       "      <th>Salario mínimo</th>\n",
       "      <td>2.960661e+09</td>\n",
       "      <td>54411.957313</td>\n",
       "      <td>(105.0, 1854398.0)</td>\n",
       "      <td>6.717392</td>\n",
       "      <td>153.637039</td>\n",
       "    </tr>\n",
       "  </tbody>\n",
       "</table>\n",
       "</div>"
      ],
      "text/plain": [
       "                    Varianza  Desviación Estándar               Rango  \\\n",
       "Salario medio   4.402867e+09         66354.103394  (110.0, 2096744.0)   \n",
       "Salario máximo  6.947264e+09         83350.246632  (115.0, 2339090.0)   \n",
       "Salario mínimo  2.960661e+09         54411.957313  (105.0, 1854398.0)   \n",
       "\n",
       "                Coeficiente de Asimetría    Curtosis  \n",
       "Salario medio                   6.070477  119.153350  \n",
       "Salario máximo                  5.878229   92.899850  \n",
       "Salario mínimo                  6.717392  153.637039  "
      ]
     },
     "execution_count": 25,
     "metadata": {},
     "output_type": "execute_result"
    }
   ],
   "source": [
    "#varianza\n",
    "var_salary = nor_salary_insights['salary'].var()\n",
    "var_salary_max = max_salary_insights['salary'].var()\n",
    "var_salary_min = min_salary_insights['salary'].var()\n",
    "\n",
    "#desviacion estandar\n",
    "std_salary = nor_salary_insights['salary'].std()\n",
    "std_salary_max = max_salary_insights['salary'].std()\n",
    "std_salary_min = min_salary_insights['salary'].std()\n",
    "\n",
    "#max\n",
    "max_salary = nor_salary_insights['salary'].max()\n",
    "max_salary_max = max_salary_insights['salary'].max()\n",
    "max_salary_min = min_salary_insights['salary'].max()\n",
    "#min\n",
    "min_salary = nor_salary_insights['salary'].min()\n",
    "min_salary_max = max_salary_insights['salary'].min()\n",
    "min_salary_min = min_salary_insights['salary'].min()\n",
    "#rango\n",
    "range_salary = max_salary - min_salary\n",
    "range_salary_max = max_salary_max - min_salary_max\n",
    "range_salary_min = max_salary_min - min_salary_min\n",
    "\n",
    "#coef asimetria\n",
    "asim_salary = asim(nor_salary_insights['salary'])\n",
    "asim_salary_max = asim(max_salary_insights['salary'])\n",
    "asim_salary_min = asim(min_salary_insights['salary'])\n",
    "\n",
    "#curtosis\n",
    "kurt_salary = nor_salary_insights['salary'].kurt()\n",
    "kurt_salary_max = max_salary_insights['salary'].kurt()\n",
    "kurt_salary_min = min_salary_insights['salary'].kurt()\n",
    "\n",
    "disp_data = {\n",
    "    'Medida': ['Varianza', 'Desviación Estándar', 'Rango', 'Coeficiente de Asimetría', 'Curtosis'],\n",
    "    'Salario medio': [var_salary, std_salary, (min_salary,max_salary), asim_salary, kurt_salary],\n",
    "    'Salario máximo': [var_salary_max, std_salary_max, (min_salary_max,max_salary_max), asim_salary_max, kurt_salary_max],\n",
    "    'Salario mínimo': [var_salary_min, std_salary_min, (min_salary_min,max_salary_min), asim_salary_min, kurt_salary_min]\n",
    "}\n",
    "\n",
    "\n",
    "# Display Markdown table\n",
    "#markdown_table = dict_to_markdown(disp_data)\n",
    "#display(Markdown(markdown_table))\n",
    "\n",
    "# Display pandas dataframe table\n",
    "dict_to_dataframe_table(disp_data,'Medida')"
   ]
  },
  {
   "cell_type": "markdown",
   "metadata": {},
   "source": [
    "#### Análisis Intercuartílico"
   ]
  },
  {
   "cell_type": "code",
   "execution_count": null,
   "metadata": {},
   "outputs": [],
   "source": []
  },
  {
   "cell_type": "markdown",
   "metadata": {},
   "source": [
    "#### Visualización"
   ]
  },
  {
   "cell_type": "code",
   "execution_count": 7,
   "metadata": {},
   "outputs": [
    {
     "data": {
      "image/png": "[encoded data removed]",
      "text/plain": [
       "<Figure size 1500x600 with 1 Axes>"
      ]
     },
     "metadata": {},
     "output_type": "display_data"
    }
   ],
   "source": [
    "plt.figure(figsize=(15, 6))\n",
    "sns.stripplot(x='salary', y='category', data=nor_salary_insights, jitter=True, size=8, hue='category',palette='CMRmap', alpha=0.7)\n",
    "\n",
    "plt.xticks(ticks=np.arange(50000, 1000000, 50000), labels=[f'{int(i/1000):,}k' for i in np.arange(50000, 1000000, 50000)])\n",
    "plt.yticks(ticks=[0], labels=[''])\n",
    "plt.ylabel('Salario promedio')\n",
    "plt.xlabel('Valor (en dólares)')\n",
    "plt.title('Distribución de salarios promedio')\n",
    "\n",
    "plt.show()"
   ]
  },
  {
   "cell_type": "markdown",
   "metadata": {},
   "source": [
    "Los salarios tienden a concentrarse en valores bajos y medianos, con pocas ofertas de trabajo que superan los 400k dólares.\n",
    "Hay algunos valores extremos en la parte derecha, lo que indica que existen salarios significativamente más altos, pero en menor cantidad.\n",
    "La distribución sugiere que el mercado laboral tiene una gran cantidad de ofertas con salarios relativamente bajos, mientras que los salarios más altos son menos frecuentes."
   ]
  },
  {
   "cell_type": "code",
   "execution_count": 8,
   "metadata": {},
   "outputs": [
    {
     "data": {
      "image/png": "[encoded data removed]",
      "text/plain": [
       "<Figure size 1200x800 with 2 Axes>"
      ]
     },
     "metadata": {},
     "output_type": "display_data"
    }
   ],
   "source": [
    "salary = df_num['normalized_salary'].dropna()\n",
    "\n",
    "colors = sns.color_palette('viridis', 30)\n",
    "# Plotting the histogram\n",
    "plt.figure(figsize=(12, 8))\n",
    "plt.subplot(1, 2, 1)  # (rows, columns, index)\n",
    "sns.histplot(salary, kde=True, color='skyblue', bins=30)\n",
    "plt.title('Histograma')\n",
    "plt.xlabel('Salario promedio')\n",
    "plt.ylabel('Frecuencia')\n",
    "\n",
    "# Calculate mean and quartiles\n",
    "mean_value = np.mean(salary)\n",
    "q1 = np.percentile(salary, 25)\n",
    "q3 = np.percentile(salary, 75)\n",
    "\n",
    "# Plotting the boxplot\n",
    "plt.subplot(1, 2, 2)\n",
    "sns.boxplot(data=salary, color='skyblue', orient='v')\n",
    "plt.title('Diagrama de caja')\n",
    "plt.ylabel('Salario promedio')\n",
    "\n",
    "# Annotate the mean and quartile values on the boxplot\n",
    "plt.text(0.05, mean_value, f'Promedio: {mean_value:.0f}', color='blue', fontsize=10)\n",
    "plt.text(0.05, q1, f'Q1: {q1:.0f}', color='blue', fontsize=10)\n",
    "plt.text(0.05, q3, f'Q3: {q3:.0f}', color='blue', fontsize=10)\n",
    "\n",
    "# Display the plot\n",
    "plt.tight_layout()\n",
    "plt.show()"
   ]
  },
  {
   "cell_type": "markdown",
   "metadata": {},
   "source": [
    "El histograma sugiere que la mayoría de los salarios se concentran en un rango específico, pero hay presencia de valores extremos.\n",
    "El diagrama de caja confirma la presencia de valores atípicos y muestra la mediana y los cuartiles."
   ]
  },
  {
   "cell_type": "markdown",
   "metadata": {},
   "source": [
    "### Visitas"
   ]
  },
  {
   "cell_type": "code",
   "execution_count": 9,
   "metadata": {},
   "outputs": [],
   "source": [
    "\n",
    "views = df_num['views'].dropna()"
   ]
  },
  {
   "cell_type": "markdown",
   "metadata": {},
   "source": [
    "#### Medidas de Centralización"
   ]
  },
  {
   "cell_type": "code",
   "execution_count": 10,
   "metadata": {},
   "outputs": [
    {
     "data": {
      "text/html": [
       "<div>\n",
       "<style scoped>\n",
       "    .dataframe tbody tr th:only-of-type {\n",
       "        vertical-align: middle;\n",
       "    }\n",
       "\n",
       "    .dataframe tbody tr th {\n",
       "        vertical-align: top;\n",
       "    }\n",
       "\n",
       "    .dataframe thead th {\n",
       "        text-align: right;\n",
       "    }\n",
       "</style>\n",
       "<table border=\"1\" class=\"dataframe\">\n",
       "  <thead>\n",
       "    <tr style=\"text-align: right;\">\n",
       "      <th></th>\n",
       "      <th>Promedio</th>\n",
       "      <th>Mediana</th>\n",
       "      <th>Moda</th>\n",
       "    </tr>\n",
       "  </thead>\n",
       "  <tbody>\n",
       "    <tr>\n",
       "      <th>Número de vistas</th>\n",
       "      <td>21.301342</td>\n",
       "      <td>5.0</td>\n",
       "      <td>4.0</td>\n",
       "    </tr>\n",
       "  </tbody>\n",
       "</table>\n",
       "</div>"
      ],
      "text/plain": [
       "                   Promedio  Mediana  Moda\n",
       "Número de vistas  21.301342      5.0   4.0"
      ]
     },
     "execution_count": 10,
     "metadata": {},
     "output_type": "execute_result"
    }
   ],
   "source": [
    "#mean views\n",
    "mean_views = views.mean()\n",
    "\n",
    "#median views\n",
    "median_views = views.median()\n",
    "\n",
    "#mode views\n",
    "mode_views = views.mode()\n",
    "\n",
    "cent_data = {\n",
    "    'Medida': ['Promedio', 'Mediana', 'Moda'],\n",
    "    'Número de vistas': [mean_views, median_views, mode_views[0]],\n",
    "}\n",
    "\n",
    "\n",
    "\n",
    "# Display Markdown table\n",
    "#markdown_table = dict_to_markdown(cent_data)\n",
    "#display(Markdown(markdown_table))\n",
    "\n",
    "# Display pandas dataframe table\n",
    "dict_to_dataframe_table(cent_data,'Medida')\n"
   ]
  },
  {
   "cell_type": "markdown",
   "metadata": {},
   "source": [
    "#### Medidas de Dispersión"
   ]
  },
  {
   "cell_type": "code",
   "execution_count": 11,
   "metadata": {},
   "outputs": [
    {
     "data": {
      "text/html": [
       "<div>\n",
       "<style scoped>\n",
       "    .dataframe tbody tr th:only-of-type {\n",
       "        vertical-align: middle;\n",
       "    }\n",
       "\n",
       "    .dataframe tbody tr th {\n",
       "        vertical-align: top;\n",
       "    }\n",
       "\n",
       "    .dataframe thead th {\n",
       "        text-align: right;\n",
       "    }\n",
       "</style>\n",
       "<table border=\"1\" class=\"dataframe\">\n",
       "  <thead>\n",
       "    <tr style=\"text-align: right;\">\n",
       "      <th></th>\n",
       "      <th>Varianza</th>\n",
       "      <th>Desviación Estándar</th>\n",
       "      <th>Rango</th>\n",
       "      <th>Coeficiente de Asimetría</th>\n",
       "      <th>Curtosis</th>\n",
       "    </tr>\n",
       "  </thead>\n",
       "  <tbody>\n",
       "    <tr>\n",
       "      <th>Número de vistas</th>\n",
       "      <td>17895.015345</td>\n",
       "      <td>133.772252</td>\n",
       "      <td>(1.0, 9975.0)</td>\n",
       "      <td>41.728434</td>\n",
       "      <td>2524.888631</td>\n",
       "    </tr>\n",
       "  </tbody>\n",
       "</table>\n",
       "</div>"
      ],
      "text/plain": [
       "                      Varianza  Desviación Estándar          Rango  \\\n",
       "Número de vistas  17895.015345           133.772252  (1.0, 9975.0)   \n",
       "\n",
       "                  Coeficiente de Asimetría     Curtosis  \n",
       "Número de vistas                 41.728434  2524.888631  "
      ]
     },
     "execution_count": 11,
     "metadata": {},
     "output_type": "execute_result"
    }
   ],
   "source": [
    "#varianza\n",
    "var_views = views.var()\n",
    "\n",
    "#desviacion estandar\n",
    "std_views = views.std()\n",
    "\n",
    "#max\n",
    "max_views = views.max()\n",
    "\n",
    "#min\n",
    "min_views = views.min()\n",
    "\n",
    "#rango\n",
    "range_views = max_views - min_views\n",
    "\n",
    "#coef asimetria\n",
    "asim_views = asim(views)\n",
    "\n",
    "#curtosis\n",
    "kurt_views = views.kurt()\n",
    "\n",
    "\n",
    "disp_data = {\n",
    "    'Medida': ['Varianza', 'Desviación Estándar', 'Rango', 'Coeficiente de Asimetría', 'Curtosis'],\n",
    "    'Número de vistas': [var_views, std_views, (min_views,max_views), asim_views, kurt_views]\n",
    "}\n",
    "\n",
    "\n",
    "\n",
    "\n",
    "\n",
    "# Display Markdown table\n",
    "#markdown_table = dict_to_markdown(disp_data)\n",
    "#display(Markdown(markdown_table))\n",
    "\n",
    "# Display pandas dataframe table\n",
    "dict_to_dataframe_table(disp_data,'Medida')"
   ]
  },
  {
   "cell_type": "markdown",
   "metadata": {},
   "source": [
    "#### Análisis Intercuartílico"
   ]
  },
  {
   "cell_type": "code",
   "execution_count": null,
   "metadata": {},
   "outputs": [],
   "source": []
  },
  {
   "cell_type": "markdown",
   "metadata": {},
   "source": [
    "#### Visualización"
   ]
  },
  {
   "cell_type": "code",
   "execution_count": 12,
   "metadata": {},
   "outputs": [
    {
     "data": {
      "text/plain": [
       "views\n",
       "4.0       5699\n",
       "3.0       3690\n",
       "2.0       3282\n",
       "5.0       2963\n",
       "6.0       1727\n",
       "          ... \n",
       "4951.0       1\n",
       "4807.0       1\n",
       "2484.0       1\n",
       "765.0        1\n",
       "209.0        1\n",
       "Name: count, Length: 487, dtype: int64"
      ]
     },
     "execution_count": 12,
     "metadata": {},
     "output_type": "execute_result"
    }
   ],
   "source": [
    "view_counts = views.value_counts()\n",
    "view_counts"
   ]
  },
  {
   "cell_type": "code",
   "execution_count": 13,
   "metadata": {},
   "outputs": [
    {
     "data": {
      "text/html": [
       "<div>\n",
       "<style scoped>\n",
       "    .dataframe tbody tr th:only-of-type {\n",
       "        vertical-align: middle;\n",
       "    }\n",
       "\n",
       "    .dataframe tbody tr th {\n",
       "        vertical-align: top;\n",
       "    }\n",
       "\n",
       "    .dataframe thead th {\n",
       "        text-align: right;\n",
       "    }\n",
       "</style>\n",
       "<table border=\"1\" class=\"dataframe\">\n",
       "  <thead>\n",
       "    <tr style=\"text-align: right;\">\n",
       "      <th></th>\n",
       "      <th>count</th>\n",
       "    </tr>\n",
       "    <tr>\n",
       "      <th>views</th>\n",
       "      <th></th>\n",
       "    </tr>\n",
       "  </thead>\n",
       "  <tbody>\n",
       "    <tr>\n",
       "      <th>209.0</th>\n",
       "      <td>1</td>\n",
       "    </tr>\n",
       "    <tr>\n",
       "      <th>765.0</th>\n",
       "      <td>1</td>\n",
       "    </tr>\n",
       "    <tr>\n",
       "      <th>2484.0</th>\n",
       "      <td>1</td>\n",
       "    </tr>\n",
       "    <tr>\n",
       "      <th>676.0</th>\n",
       "      <td>1</td>\n",
       "    </tr>\n",
       "    <tr>\n",
       "      <th>595.0</th>\n",
       "      <td>1</td>\n",
       "    </tr>\n",
       "    <tr>\n",
       "      <th>...</th>\n",
       "      <td>...</td>\n",
       "    </tr>\n",
       "    <tr>\n",
       "      <th>6.0</th>\n",
       "      <td>1727</td>\n",
       "    </tr>\n",
       "    <tr>\n",
       "      <th>5.0</th>\n",
       "      <td>2963</td>\n",
       "    </tr>\n",
       "    <tr>\n",
       "      <th>2.0</th>\n",
       "      <td>3282</td>\n",
       "    </tr>\n",
       "    <tr>\n",
       "      <th>3.0</th>\n",
       "      <td>3690</td>\n",
       "    </tr>\n",
       "    <tr>\n",
       "      <th>4.0</th>\n",
       "      <td>5699</td>\n",
       "    </tr>\n",
       "  </tbody>\n",
       "</table>\n",
       "<p>487 rows × 1 columns</p>\n",
       "</div>"
      ],
      "text/plain": [
       "        count\n",
       "views        \n",
       "209.0       1\n",
       "765.0       1\n",
       "2484.0      1\n",
       "676.0       1\n",
       "595.0       1\n",
       "...       ...\n",
       "6.0      1727\n",
       "5.0      2963\n",
       "2.0      3282\n",
       "3.0      3690\n",
       "4.0      5699\n",
       "\n",
       "[487 rows x 1 columns]"
      ]
     },
     "execution_count": 13,
     "metadata": {},
     "output_type": "execute_result"
    }
   ],
   "source": [
    "df_views = pd.DataFrame(view_counts)\n",
    "df_views.sort_values(by='count', ascending=True)"
   ]
  },
  {
   "cell_type": "code",
   "execution_count": 14,
   "metadata": {},
   "outputs": [
    {
     "data": {
      "image/png": "[encoded data removed]",
      "text/plain": [
       "<Figure size 1000x800 with 1 Axes>"
      ]
     },
     "metadata": {},
     "output_type": "display_data"
    }
   ],
   "source": [
    "import matplotlib.ticker as ticker\n",
    "#df_views = df_num[views]\n",
    "#df_views = pd.DataFrame(views)\n",
    "plt.figure(figsize=(10, 8))\n",
    "sns.scatterplot(x='views', y='count',data=df_views, size=8, hue='count',palette='viridis', alpha=0.7)\n",
    "\n",
    "#plt.xticks(ticks=np.arange(0, 10000, 500), labels=[f'{int(i/1):,}' for i in np.arange(0, 10000, 500)])\n",
    "#plt.yticks(ticks=np.arange(0, 6000, 500), labels=[f'{int(i/1):,}' for i in np.arange(0, 6000, 500)])\n",
    "#plt.yticks(ticks=[0], labels=[''])\n",
    "plt.ylabel('Cantidad de posts')\n",
    "plt.xlabel('Número de vistas')\n",
    "plt.title('Distribución de vistas')\n",
    "\n",
    "# Set the x and y axes to a logarithmic scale\n",
    "plt.xscale('log')\n",
    "#plt.yscale('log')\n",
    "\n",
    "# Custom tick values for x and y axes\n",
    "x_ticks = [1, 2, 3, 4, 5, 10, 100, 1000, 10000]  # Example tick values for the x-axis\n",
    "y_ticks = np.arange(0, 6000, 500)#[500, 100, 5000]  # Example tick values for the y-axis\n",
    "\n",
    "# Apply custom ticks to both axes\n",
    "plt.gca().set_xticks(x_ticks)\n",
    "plt.gca().set_yticks(y_ticks)\n",
    "\n",
    "# Optionally, format the ticks for better readability\n",
    "plt.gca().xaxis.set_major_formatter(ticker.FuncFormatter(lambda x, _: f'{int(x)}'))\n",
    "plt.gca().yaxis.set_major_formatter(ticker.FuncFormatter(lambda y, _: f'{int(y)}'))\n",
    "\n",
    "plt.show()"
   ]
  },
  {
   "cell_type": "code",
   "execution_count": 15,
   "metadata": {},
   "outputs": [
    {
     "data": {
      "image/png": "[encoded data removed]",
      "text/plain": [
       "<Figure size 1200x800 with 1 Axes>"
      ]
     },
     "metadata": {},
     "output_type": "display_data"
    }
   ],
   "source": [
    "# Plotting the histogram\n",
    "plt.figure(figsize=(12, 8))\n",
    "sns.histplot(views, kde=True, color='green', bins=3000)\n",
    "plt.title('Histograma')\n",
    "plt.xlabel('Visitas')\n",
    "plt.ylabel('Frecuencia')\n",
    "\n",
    "# Set the x and y axes to a logarithmic scale\n",
    "plt.xscale('log')\n",
    "#plt.yscale('log')\n",
    "\n",
    "# Custom tick values for x and y axes\n",
    "x_ticks = [1, 2, 3, 4, 5, 10, 100, 1000, 10000]  # Example tick values for the x-axis\n",
    "y_ticks = [500, 1000, 5000]  # Example tick values for the y-axis\n",
    "\n",
    "# Apply custom ticks to both axes\n",
    "plt.gca().set_xticks(x_ticks)\n",
    "plt.gca().set_yticks(y_ticks)\n",
    "\n",
    "# Optionally, format the ticks for better readability\n",
    "plt.gca().xaxis.set_major_formatter(ticker.FuncFormatter(lambda x, _: f'{int(x)}'))\n",
    "plt.gca().yaxis.set_major_formatter(ticker.FuncFormatter(lambda y, _: f'{int(y)}'))\n",
    "\n",
    "# Display the plot\n",
    "plt.show()\n"
   ]
  },
  {
   "cell_type": "code",
   "execution_count": 16,
   "metadata": {},
   "outputs": [
    {
     "data": {
      "image/png": "[encoded data removed]",
      "text/plain": [
       "<Figure size 1200x800 with 1 Axes>"
      ]
     },
     "metadata": {},
     "output_type": "display_data"
    }
   ],
   "source": [
    "# Plotting the boxplot\n",
    "plt.figure(figsize=(12, 8))\n",
    "\n",
    "# Calculate mean and quartiles\n",
    "mean_value = np.mean(views)\n",
    "q1 = np.percentile(views, 25)\n",
    "q3 = np.percentile(views, 75)\n",
    "\n",
    "\n",
    "sns.boxplot(data=views, color='skyblue', orient='v')\n",
    "plt.title('Diagrama de caja')\n",
    "plt.ylabel('Frecuencia')\n",
    "\n",
    "# Annotate the mean and quartile values on the boxplot\n",
    "#plt.text(0.05, mean_value, f'Promedio: {mean_value:.0f}', color='blue', fontsize=10)\n",
    "#plt.text(0.05, q1, f'Q1: {q1:.0f}', color='blue', fontsize=10)\n",
    "#plt.text(0.05, q3, f'Q3: {q3:.0f}', color='blue', fontsize=10)\n",
    "\n",
    "# Set the x and y axes to a logarithmic scale\n",
    "#plt.xscale('log')\n",
    "plt.yscale('log')\n",
    "\n",
    "# Display the plot\n",
    "plt.show()"
   ]
  },
  {
   "cell_type": "code",
   "execution_count": 17,
   "metadata": {},
   "outputs": [
    {
     "data": {
      "image/png": "[encoded data removed]",
      "text/plain": [
       "<Figure size 1200x800 with 2 Axes>"
      ]
     },
     "metadata": {},
     "output_type": "display_data"
    }
   ],
   "source": [
    "# Plotting the histogram\n",
    "plt.figure(figsize=(12, 8))\n",
    "plt.subplot(1, 2, 1)  # (rows, columns, index)\n",
    "sns.histplot(views, kde=True, color='green', bins=30)\n",
    "plt.title('Histograma')\n",
    "plt.xlabel('Visitas')\n",
    "plt.ylabel('Frecuencia')\n",
    "\n",
    "# Calculate mean and quartiles\n",
    "mean_value = np.mean(views)\n",
    "q1 = np.percentile(views, 25)\n",
    "q3 = np.percentile(views, 75)\n",
    "\n",
    "# Plotting the boxplot\n",
    "plt.subplot(1, 2, 2)\n",
    "sns.boxplot(data=views, color='skyblue', orient='v')\n",
    "plt.title('Diagrama de caja')\n",
    "plt.ylabel('Frecuencia')\n",
    "\n",
    "# Annotate the mean and quartile values on the boxplot\n",
    "#plt.text(0.05, mean_value, f'Promedio: {mean_value:.0f}', color='blue', fontsize=10)\n",
    "#plt.text(0.05, q1, f'Q1: {q1:.0f}', color='blue', fontsize=10)\n",
    "#plt.text(0.05, q3, f'Q3: {q3:.0f}', color='blue', fontsize=10)\n",
    "\n",
    "# Display the plot\n",
    "plt.tight_layout()\n",
    "plt.show()\n"
   ]
  },
  {
   "cell_type": "markdown",
   "metadata": {},
   "source": [
    "### Aplicaciones por puesto"
   ]
  },
  {
   "cell_type": "code",
   "execution_count": 18,
   "metadata": {},
   "outputs": [],
   "source": [
    "apps = df_num['applies'].dropna()"
   ]
  },
  {
   "cell_type": "markdown",
   "metadata": {},
   "source": [
    "#### Medidas de Centralización"
   ]
  },
  {
   "cell_type": "code",
   "execution_count": 19,
   "metadata": {},
   "outputs": [
    {
     "data": {
      "text/markdown": [
       "| Medida | Número de aplicaciones |\n",
       "| --- | --- |\n",
       "| Promedio | 12 |\n",
       "| Mediana | 3.0 |\n",
       "| Moda | 1.0 |"
      ],
      "text/plain": [
       "<IPython.core.display.Markdown object>"
      ]
     },
     "metadata": {},
     "output_type": "display_data"
    }
   ],
   "source": [
    "#mean apps\n",
    "mean_apps = apps.mean()\n",
    "\n",
    "#median apps\n",
    "median_apps = apps.median()\n",
    "\n",
    "#mode apps\n",
    "mode_apps = apps.mode()\n",
    "\n",
    "cent_data = {\n",
    "    'Medida': ['Promedio', 'Mediana', 'Moda'],\n",
    "    'Número de aplicaciones': [int(mean_apps), median_apps, mode_apps[0]],\n",
    "}\n",
    "\n",
    "markdown_table = dict_to_markdown(cent_data)\n",
    "\n",
    "# Display Markdown table\n",
    "\n",
    "display(Markdown(markdown_table))"
   ]
  },
  {
   "cell_type": "markdown",
   "metadata": {},
   "source": [
    "#### Medidas de Dispersión"
   ]
  },
  {
   "cell_type": "code",
   "execution_count": null,
   "metadata": {},
   "outputs": [],
   "source": []
  },
  {
   "cell_type": "markdown",
   "metadata": {},
   "source": [
    "#### Análisis Intercuartílico"
   ]
  },
  {
   "cell_type": "code",
   "execution_count": null,
   "metadata": {},
   "outputs": [],
   "source": []
  },
  {
   "cell_type": "markdown",
   "metadata": {},
   "source": [
    "#### Visualización"
   ]
  },
  {
   "cell_type": "code",
   "execution_count": 20,
   "metadata": {},
   "outputs": [
    {
     "ename": "TypeError",
     "evalue": "Data source must be a DataFrame or Mapping, not <class 'pandas.core.series.Series'>.",
     "output_type": "error",
     "traceback": [
      "\u001b[1;31m---------------------------------------------------------------------------\u001b[0m",
      "\u001b[1;31mTypeError\u001b[0m                                 Traceback (most recent call last)",
      "Cell \u001b[1;32mIn[20], line 2\u001b[0m\n\u001b[0;32m      1\u001b[0m plt\u001b[38;5;241m.\u001b[39mfigure(figsize\u001b[38;5;241m=\u001b[39m(\u001b[38;5;241m15\u001b[39m, \u001b[38;5;241m6\u001b[39m))\n\u001b[1;32m----> 2\u001b[0m \u001b[43msns\u001b[49m\u001b[38;5;241;43m.\u001b[39;49m\u001b[43mstripplot\u001b[49m\u001b[43m(\u001b[49m\u001b[43mx\u001b[49m\u001b[38;5;241;43m=\u001b[39;49m\u001b[38;5;124;43m'\u001b[39;49m\u001b[38;5;124;43msalary\u001b[39;49m\u001b[38;5;124;43m'\u001b[39;49m\u001b[43m,\u001b[49m\u001b[43m \u001b[49m\u001b[43my\u001b[49m\u001b[38;5;241;43m=\u001b[39;49m\u001b[38;5;124;43m'\u001b[39;49m\u001b[38;5;124;43mcategory\u001b[39;49m\u001b[38;5;124;43m'\u001b[39;49m\u001b[43m,\u001b[49m\u001b[43m \u001b[49m\u001b[43mdata\u001b[49m\u001b[38;5;241;43m=\u001b[39;49m\u001b[43mviews\u001b[49m\u001b[43m,\u001b[49m\u001b[43m \u001b[49m\u001b[43mjitter\u001b[49m\u001b[38;5;241;43m=\u001b[39;49m\u001b[38;5;28;43;01mTrue\u001b[39;49;00m\u001b[43m,\u001b[49m\u001b[43m \u001b[49m\u001b[43msize\u001b[49m\u001b[38;5;241;43m=\u001b[39;49m\u001b[38;5;241;43m8\u001b[39;49m\u001b[43m,\u001b[49m\u001b[43m \u001b[49m\u001b[43mhue\u001b[49m\u001b[38;5;241;43m=\u001b[39;49m\u001b[38;5;124;43m'\u001b[39;49m\u001b[38;5;124;43mcategory\u001b[39;49m\u001b[38;5;124;43m'\u001b[39;49m\u001b[43m,\u001b[49m\u001b[43mpalette\u001b[49m\u001b[38;5;241;43m=\u001b[39;49m\u001b[38;5;124;43m'\u001b[39;49m\u001b[38;5;124;43mCMRmap\u001b[39;49m\u001b[38;5;124;43m'\u001b[39;49m\u001b[43m,\u001b[49m\u001b[43m \u001b[49m\u001b[43malpha\u001b[49m\u001b[38;5;241;43m=\u001b[39;49m\u001b[38;5;241;43m0.7\u001b[39;49m\u001b[43m)\u001b[49m\n\u001b[0;32m      4\u001b[0m plt\u001b[38;5;241m.\u001b[39mxticks(ticks\u001b[38;5;241m=\u001b[39mnp\u001b[38;5;241m.\u001b[39marange(\u001b[38;5;241m50000\u001b[39m, \u001b[38;5;241m1000000\u001b[39m, \u001b[38;5;241m50000\u001b[39m), labels\u001b[38;5;241m=\u001b[39m[\u001b[38;5;124mf\u001b[39m\u001b[38;5;124m'\u001b[39m\u001b[38;5;132;01m{\u001b[39;00m\u001b[38;5;28mint\u001b[39m(i\u001b[38;5;241m/\u001b[39m\u001b[38;5;241m1000\u001b[39m)\u001b[38;5;132;01m:\u001b[39;00m\u001b[38;5;124m,\u001b[39m\u001b[38;5;132;01m}\u001b[39;00m\u001b[38;5;124mk\u001b[39m\u001b[38;5;124m'\u001b[39m \u001b[38;5;28;01mfor\u001b[39;00m i \u001b[38;5;129;01min\u001b[39;00m np\u001b[38;5;241m.\u001b[39marange(\u001b[38;5;241m50000\u001b[39m, \u001b[38;5;241m1000000\u001b[39m, \u001b[38;5;241m50000\u001b[39m)])\n\u001b[0;32m      5\u001b[0m plt\u001b[38;5;241m.\u001b[39myticks(ticks\u001b[38;5;241m=\u001b[39m[\u001b[38;5;241m0\u001b[39m], labels\u001b[38;5;241m=\u001b[39m[\u001b[38;5;124m'\u001b[39m\u001b[38;5;124m'\u001b[39m])\n",
      "File \u001b[1;32mc:\\Users\\Sarah\\Code\\ProyectoABD\\.venv\\Lib\\site-packages\\seaborn\\categorical.py:2082\u001b[0m, in \u001b[0;36mstripplot\u001b[1;34m(data, x, y, hue, order, hue_order, jitter, dodge, orient, color, palette, size, edgecolor, linewidth, hue_norm, log_scale, native_scale, formatter, legend, ax, **kwargs)\u001b[0m\n\u001b[0;32m   2074\u001b[0m \u001b[38;5;28;01mdef\u001b[39;00m\u001b[38;5;250m \u001b[39m\u001b[38;5;21mstripplot\u001b[39m(\n\u001b[0;32m   2075\u001b[0m     data\u001b[38;5;241m=\u001b[39m\u001b[38;5;28;01mNone\u001b[39;00m, \u001b[38;5;241m*\u001b[39m, x\u001b[38;5;241m=\u001b[39m\u001b[38;5;28;01mNone\u001b[39;00m, y\u001b[38;5;241m=\u001b[39m\u001b[38;5;28;01mNone\u001b[39;00m, hue\u001b[38;5;241m=\u001b[39m\u001b[38;5;28;01mNone\u001b[39;00m, order\u001b[38;5;241m=\u001b[39m\u001b[38;5;28;01mNone\u001b[39;00m, hue_order\u001b[38;5;241m=\u001b[39m\u001b[38;5;28;01mNone\u001b[39;00m,\n\u001b[0;32m   2076\u001b[0m     jitter\u001b[38;5;241m=\u001b[39m\u001b[38;5;28;01mTrue\u001b[39;00m, dodge\u001b[38;5;241m=\u001b[39m\u001b[38;5;28;01mFalse\u001b[39;00m, orient\u001b[38;5;241m=\u001b[39m\u001b[38;5;28;01mNone\u001b[39;00m, color\u001b[38;5;241m=\u001b[39m\u001b[38;5;28;01mNone\u001b[39;00m, palette\u001b[38;5;241m=\u001b[39m\u001b[38;5;28;01mNone\u001b[39;00m,\n\u001b[1;32m   (...)\u001b[0m\n\u001b[0;32m   2079\u001b[0m     ax\u001b[38;5;241m=\u001b[39m\u001b[38;5;28;01mNone\u001b[39;00m, \u001b[38;5;241m*\u001b[39m\u001b[38;5;241m*\u001b[39mkwargs\n\u001b[0;32m   2080\u001b[0m ):\n\u001b[1;32m-> 2082\u001b[0m     p \u001b[38;5;241m=\u001b[39m \u001b[43m_CategoricalPlotter\u001b[49m\u001b[43m(\u001b[49m\n\u001b[0;32m   2083\u001b[0m \u001b[43m        \u001b[49m\u001b[43mdata\u001b[49m\u001b[38;5;241;43m=\u001b[39;49m\u001b[43mdata\u001b[49m\u001b[43m,\u001b[49m\n\u001b[0;32m   2084\u001b[0m \u001b[43m        \u001b[49m\u001b[43mvariables\u001b[49m\u001b[38;5;241;43m=\u001b[39;49m\u001b[38;5;28;43mdict\u001b[39;49m\u001b[43m(\u001b[49m\u001b[43mx\u001b[49m\u001b[38;5;241;43m=\u001b[39;49m\u001b[43mx\u001b[49m\u001b[43m,\u001b[49m\u001b[43m \u001b[49m\u001b[43my\u001b[49m\u001b[38;5;241;43m=\u001b[39;49m\u001b[43my\u001b[49m\u001b[43m,\u001b[49m\u001b[43m \u001b[49m\u001b[43mhue\u001b[49m\u001b[38;5;241;43m=\u001b[39;49m\u001b[43mhue\u001b[49m\u001b[43m)\u001b[49m\u001b[43m,\u001b[49m\n\u001b[0;32m   2085\u001b[0m \u001b[43m        \u001b[49m\u001b[43morder\u001b[49m\u001b[38;5;241;43m=\u001b[39;49m\u001b[43morder\u001b[49m\u001b[43m,\u001b[49m\n\u001b[0;32m   2086\u001b[0m \u001b[43m        \u001b[49m\u001b[43morient\u001b[49m\u001b[38;5;241;43m=\u001b[39;49m\u001b[43morient\u001b[49m\u001b[43m,\u001b[49m\n\u001b[0;32m   2087\u001b[0m \u001b[43m        \u001b[49m\u001b[43mcolor\u001b[49m\u001b[38;5;241;43m=\u001b[39;49m\u001b[43mcolor\u001b[49m\u001b[43m,\u001b[49m\n\u001b[0;32m   2088\u001b[0m \u001b[43m        \u001b[49m\u001b[43mlegend\u001b[49m\u001b[38;5;241;43m=\u001b[39;49m\u001b[43mlegend\u001b[49m\u001b[43m,\u001b[49m\n\u001b[0;32m   2089\u001b[0m \u001b[43m    \u001b[49m\u001b[43m)\u001b[49m\n\u001b[0;32m   2091\u001b[0m     \u001b[38;5;28;01mif\u001b[39;00m ax \u001b[38;5;129;01mis\u001b[39;00m \u001b[38;5;28;01mNone\u001b[39;00m:\n\u001b[0;32m   2092\u001b[0m         ax \u001b[38;5;241m=\u001b[39m plt\u001b[38;5;241m.\u001b[39mgca()\n",
      "File \u001b[1;32mc:\\Users\\Sarah\\Code\\ProyectoABD\\.venv\\Lib\\site-packages\\seaborn\\categorical.py:67\u001b[0m, in \u001b[0;36m_CategoricalPlotter.__init__\u001b[1;34m(self, data, variables, order, orient, require_numeric, color, legend)\u001b[0m\n\u001b[0;32m     56\u001b[0m \u001b[38;5;28;01mdef\u001b[39;00m\u001b[38;5;250m \u001b[39m\u001b[38;5;21m__init__\u001b[39m(\n\u001b[0;32m     57\u001b[0m     \u001b[38;5;28mself\u001b[39m,\n\u001b[0;32m     58\u001b[0m     data\u001b[38;5;241m=\u001b[39m\u001b[38;5;28;01mNone\u001b[39;00m,\n\u001b[1;32m   (...)\u001b[0m\n\u001b[0;32m     64\u001b[0m     legend\u001b[38;5;241m=\u001b[39m\u001b[38;5;124m\"\u001b[39m\u001b[38;5;124mauto\u001b[39m\u001b[38;5;124m\"\u001b[39m,\n\u001b[0;32m     65\u001b[0m ):\n\u001b[1;32m---> 67\u001b[0m     \u001b[38;5;28;43msuper\u001b[39;49m\u001b[43m(\u001b[49m\u001b[43m)\u001b[49m\u001b[38;5;241;43m.\u001b[39;49m\u001b[38;5;21;43m__init__\u001b[39;49m\u001b[43m(\u001b[49m\u001b[43mdata\u001b[49m\u001b[38;5;241;43m=\u001b[39;49m\u001b[43mdata\u001b[49m\u001b[43m,\u001b[49m\u001b[43m \u001b[49m\u001b[43mvariables\u001b[49m\u001b[38;5;241;43m=\u001b[39;49m\u001b[43mvariables\u001b[49m\u001b[43m)\u001b[49m\n\u001b[0;32m     69\u001b[0m     \u001b[38;5;66;03m# This method takes care of some bookkeeping that is necessary because the\u001b[39;00m\n\u001b[0;32m     70\u001b[0m     \u001b[38;5;66;03m# original categorical plots (prior to the 2021 refactor) had some rules that\u001b[39;00m\n\u001b[0;32m     71\u001b[0m     \u001b[38;5;66;03m# don't fit exactly into VectorPlotter logic. It may be wise to have a second\u001b[39;00m\n\u001b[1;32m   (...)\u001b[0m\n\u001b[0;32m     76\u001b[0m     \u001b[38;5;66;03m# default VectorPlotter rules. If we do decide to make orient part of the\u001b[39;00m\n\u001b[0;32m     77\u001b[0m     \u001b[38;5;66;03m# _base variable assignment, we'll want to figure out how to express that.\u001b[39;00m\n\u001b[0;32m     78\u001b[0m     \u001b[38;5;28;01mif\u001b[39;00m \u001b[38;5;28mself\u001b[39m\u001b[38;5;241m.\u001b[39minput_format \u001b[38;5;241m==\u001b[39m \u001b[38;5;124m\"\u001b[39m\u001b[38;5;124mwide\u001b[39m\u001b[38;5;124m\"\u001b[39m \u001b[38;5;129;01mand\u001b[39;00m orient \u001b[38;5;129;01min\u001b[39;00m [\u001b[38;5;124m\"\u001b[39m\u001b[38;5;124mh\u001b[39m\u001b[38;5;124m\"\u001b[39m, \u001b[38;5;124m\"\u001b[39m\u001b[38;5;124my\u001b[39m\u001b[38;5;124m\"\u001b[39m]:\n",
      "File \u001b[1;32mc:\\Users\\Sarah\\Code\\ProyectoABD\\.venv\\Lib\\site-packages\\seaborn\\_base.py:634\u001b[0m, in \u001b[0;36mVectorPlotter.__init__\u001b[1;34m(self, data, variables)\u001b[0m\n\u001b[0;32m    629\u001b[0m \u001b[38;5;66;03m# var_ordered is relevant only for categorical axis variables, and may\u001b[39;00m\n\u001b[0;32m    630\u001b[0m \u001b[38;5;66;03m# be better handled by an internal axis information object that tracks\u001b[39;00m\n\u001b[0;32m    631\u001b[0m \u001b[38;5;66;03m# such information and is set up by the scale_* methods. The analogous\u001b[39;00m\n\u001b[0;32m    632\u001b[0m \u001b[38;5;66;03m# information for numeric axes would be information about log scales.\u001b[39;00m\n\u001b[0;32m    633\u001b[0m \u001b[38;5;28mself\u001b[39m\u001b[38;5;241m.\u001b[39m_var_ordered \u001b[38;5;241m=\u001b[39m {\u001b[38;5;124m\"\u001b[39m\u001b[38;5;124mx\u001b[39m\u001b[38;5;124m\"\u001b[39m: \u001b[38;5;28;01mFalse\u001b[39;00m, \u001b[38;5;124m\"\u001b[39m\u001b[38;5;124my\u001b[39m\u001b[38;5;124m\"\u001b[39m: \u001b[38;5;28;01mFalse\u001b[39;00m}  \u001b[38;5;66;03m# alt., used DefaultDict\u001b[39;00m\n\u001b[1;32m--> 634\u001b[0m \u001b[38;5;28;43mself\u001b[39;49m\u001b[38;5;241;43m.\u001b[39;49m\u001b[43massign_variables\u001b[49m\u001b[43m(\u001b[49m\u001b[43mdata\u001b[49m\u001b[43m,\u001b[49m\u001b[43m \u001b[49m\u001b[43mvariables\u001b[49m\u001b[43m)\u001b[49m\n\u001b[0;32m    636\u001b[0m \u001b[38;5;66;03m# TODO Lots of tests assume that these are called to initialize the\u001b[39;00m\n\u001b[0;32m    637\u001b[0m \u001b[38;5;66;03m# mappings to default values on class initialization. I'd prefer to\u001b[39;00m\n\u001b[0;32m    638\u001b[0m \u001b[38;5;66;03m# move away from that and only have a mapping when explicitly called.\u001b[39;00m\n\u001b[0;32m    639\u001b[0m \u001b[38;5;28;01mfor\u001b[39;00m var \u001b[38;5;129;01min\u001b[39;00m [\u001b[38;5;124m\"\u001b[39m\u001b[38;5;124mhue\u001b[39m\u001b[38;5;124m\"\u001b[39m, \u001b[38;5;124m\"\u001b[39m\u001b[38;5;124msize\u001b[39m\u001b[38;5;124m\"\u001b[39m, \u001b[38;5;124m\"\u001b[39m\u001b[38;5;124mstyle\u001b[39m\u001b[38;5;124m\"\u001b[39m]:\n",
      "File \u001b[1;32mc:\\Users\\Sarah\\Code\\ProyectoABD\\.venv\\Lib\\site-packages\\seaborn\\_base.py:679\u001b[0m, in \u001b[0;36mVectorPlotter.assign_variables\u001b[1;34m(self, data, variables)\u001b[0m\n\u001b[0;32m    674\u001b[0m \u001b[38;5;28;01melse\u001b[39;00m:\n\u001b[0;32m    675\u001b[0m     \u001b[38;5;66;03m# When dealing with long-form input, use the newer PlotData\u001b[39;00m\n\u001b[0;32m    676\u001b[0m     \u001b[38;5;66;03m# object (internal but introduced for the objects interface)\u001b[39;00m\n\u001b[0;32m    677\u001b[0m     \u001b[38;5;66;03m# to centralize / standardize data consumption logic.\u001b[39;00m\n\u001b[0;32m    678\u001b[0m     \u001b[38;5;28mself\u001b[39m\u001b[38;5;241m.\u001b[39minput_format \u001b[38;5;241m=\u001b[39m \u001b[38;5;124m\"\u001b[39m\u001b[38;5;124mlong\u001b[39m\u001b[38;5;124m\"\u001b[39m\n\u001b[1;32m--> 679\u001b[0m     plot_data \u001b[38;5;241m=\u001b[39m \u001b[43mPlotData\u001b[49m\u001b[43m(\u001b[49m\u001b[43mdata\u001b[49m\u001b[43m,\u001b[49m\u001b[43m \u001b[49m\u001b[43mvariables\u001b[49m\u001b[43m)\u001b[49m\n\u001b[0;32m    680\u001b[0m     frame \u001b[38;5;241m=\u001b[39m plot_data\u001b[38;5;241m.\u001b[39mframe\n\u001b[0;32m    681\u001b[0m     names \u001b[38;5;241m=\u001b[39m plot_data\u001b[38;5;241m.\u001b[39mnames\n",
      "File \u001b[1;32mc:\\Users\\Sarah\\Code\\ProyectoABD\\.venv\\Lib\\site-packages\\seaborn\\_core\\data.py:57\u001b[0m, in \u001b[0;36mPlotData.__init__\u001b[1;34m(self, data, variables)\u001b[0m\n\u001b[0;32m     51\u001b[0m \u001b[38;5;28;01mdef\u001b[39;00m\u001b[38;5;250m \u001b[39m\u001b[38;5;21m__init__\u001b[39m(\n\u001b[0;32m     52\u001b[0m     \u001b[38;5;28mself\u001b[39m,\n\u001b[0;32m     53\u001b[0m     data: DataSource,\n\u001b[0;32m     54\u001b[0m     variables: \u001b[38;5;28mdict\u001b[39m[\u001b[38;5;28mstr\u001b[39m, VariableSpec],\n\u001b[0;32m     55\u001b[0m ):\n\u001b[1;32m---> 57\u001b[0m     data \u001b[38;5;241m=\u001b[39m \u001b[43mhandle_data_source\u001b[49m\u001b[43m(\u001b[49m\u001b[43mdata\u001b[49m\u001b[43m)\u001b[49m\n\u001b[0;32m     58\u001b[0m     frame, names, ids \u001b[38;5;241m=\u001b[39m \u001b[38;5;28mself\u001b[39m\u001b[38;5;241m.\u001b[39m_assign_variables(data, variables)\n\u001b[0;32m     60\u001b[0m     \u001b[38;5;28mself\u001b[39m\u001b[38;5;241m.\u001b[39mframe \u001b[38;5;241m=\u001b[39m frame\n",
      "File \u001b[1;32mc:\\Users\\Sarah\\Code\\ProyectoABD\\.venv\\Lib\\site-packages\\seaborn\\_core\\data.py:278\u001b[0m, in \u001b[0;36mhandle_data_source\u001b[1;34m(data)\u001b[0m\n\u001b[0;32m    276\u001b[0m \u001b[38;5;28;01melif\u001b[39;00m data \u001b[38;5;129;01mis\u001b[39;00m \u001b[38;5;129;01mnot\u001b[39;00m \u001b[38;5;28;01mNone\u001b[39;00m \u001b[38;5;129;01mand\u001b[39;00m \u001b[38;5;129;01mnot\u001b[39;00m \u001b[38;5;28misinstance\u001b[39m(data, Mapping):\n\u001b[0;32m    277\u001b[0m     err \u001b[38;5;241m=\u001b[39m \u001b[38;5;124mf\u001b[39m\u001b[38;5;124m\"\u001b[39m\u001b[38;5;124mData source must be a DataFrame or Mapping, not \u001b[39m\u001b[38;5;132;01m{\u001b[39;00m\u001b[38;5;28mtype\u001b[39m(data)\u001b[38;5;132;01m!r}\u001b[39;00m\u001b[38;5;124m.\u001b[39m\u001b[38;5;124m\"\u001b[39m\n\u001b[1;32m--> 278\u001b[0m     \u001b[38;5;28;01mraise\u001b[39;00m \u001b[38;5;167;01mTypeError\u001b[39;00m(err)\n\u001b[0;32m    280\u001b[0m \u001b[38;5;28;01mreturn\u001b[39;00m data\n",
      "\u001b[1;31mTypeError\u001b[0m: Data source must be a DataFrame or Mapping, not <class 'pandas.core.series.Series'>."
     ]
    },
    {
     "data": {
      "text/plain": [
       "<Figure size 1500x600 with 0 Axes>"
      ]
     },
     "metadata": {},
     "output_type": "display_data"
    }
   ],
   "source": [
    "plt.figure(figsize=(15, 6))\n",
    "sns.stripplot(x='salary', y='category', data=views, jitter=True, size=8, hue='category',palette='CMRmap', alpha=0.7)\n",
    "\n",
    "plt.xticks(ticks=np.arange(50000, 1000000, 50000), labels=[f'{int(i/1000):,}k' for i in np.arange(50000, 1000000, 50000)])\n",
    "plt.yticks(ticks=[0], labels=[''])\n",
    "plt.ylabel('Salario promedio')\n",
    "plt.xlabel('Valor (en dólares)')\n",
    "plt.title('Distribución de salarios promedio')\n",
    "\n",
    "plt.show()"
   ]
  },
  {
   "cell_type": "code",
   "execution_count": null,
   "metadata": {},
   "outputs": [],
   "source": [
    "# Plotting the histogram\n",
    "plt.figure(figsize=(12, 8))\n",
    "plt.subplot(1, 2, 1)  # (rows, columns, index)\n",
    "sns.histplot(apps, kde=True, color='green', bins=30)\n",
    "plt.title('Histograma')\n",
    "plt.xlabel('Visitas')\n",
    "plt.ylabel('Frecuencia')\n",
    "\n",
    "# Calculate mean and quartiles\n",
    "mean_value = np.mean(apps)\n",
    "q1 = np.percentile(apps, 25)\n",
    "q3 = np.percentile(apps, 75)\n",
    "\n",
    "# Plotting the boxplot\n",
    "plt.subplot(1, 2, 2)\n",
    "sns.boxplot(data=views, color='skyblue', orient='v')\n",
    "plt.title('Diagrama de caja')\n",
    "plt.ylabel('Salario promedio')\n",
    "\n",
    "# Annotate the mean and quartile values on the boxplot\n",
    "#plt.text(0.05, mean_value, f'Promedio: {mean_value:.0f}', color='blue', fontsize=10)\n",
    "#plt.text(0.05, q1, f'Q1: {q1:.0f}', color='blue', fontsize=10)\n",
    "#plt.text(0.05, q3, f'Q3: {q3:.0f}', color='blue', fontsize=10)\n",
    "\n",
    "# Display the plot\n",
    "plt.tight_layout()\n",
    "plt.show()"
   ]
  },
  {
   "cell_type": "markdown",
   "metadata": {},
   "source": [
    "### Duración de la publicación"
   ]
  },
  {
   "cell_type": "code",
   "execution_count": null,
   "metadata": {},
   "outputs": [],
   "source": [
    "#get job duration values\n",
    "def get_duration(row):\n",
    "    if pd.notna(row['closed_time']):\n",
    "        return row['closed_time'] - row['listed_time']\n",
    "    else:\n",
    "        return None\n",
    "\n",
    "df_num['duration'] = df_num.apply(get_duration, axis=1)\n",
    "duration = df_num['duration'].dropna()"
   ]
  },
  {
   "cell_type": "markdown",
   "metadata": {},
   "source": [
    "#### Medidas de Centralización"
   ]
  },
  {
   "cell_type": "code",
   "execution_count": null,
   "metadata": {},
   "outputs": [],
   "source": [
    "#mean duration of postings\n",
    "mean_duration = duration.mean()\n",
    "\n",
    "#median duration of postings\n",
    "median_duration = duration.median()\n",
    "\n",
    "#mode duration of postings\n",
    "mode_duration = duration.mode()\n",
    "\n",
    "#convert unix time to days, hours, minutes\n",
    "def convert_time(duration):\n",
    "    days = duration//86400\n",
    "    hours = (duration%86400)//3600\n",
    "    minutes = (duration%3600)//60\n",
    "    return days, hours, minutes\n",
    "\n",
    "\n",
    "cent_data = {\n",
    "    'Medida': ['Promedio', 'Mediana', 'Moda'],\n",
    "    'Duración de la publicación': [mean_duration, median_duration, mode_duration[0]],\n",
    "}\n",
    "\n",
    "def dict_to_datetime_markdown(data):\n",
    "    headers= \"| \" + \" | \".join(data.keys()) + \" |\"\n",
    "    separator = \"| \" + \" | \".join([\"---\"]*len(data)) + \" |\"\n",
    "    rows = []\n",
    "    for i in range(len(next(iter(data.values())))):\n",
    "        row = \"| \" + \" | \".join(f\"{int(convert_time(data[key][i])[0])}d{int(convert_time(data[key][i])[1])}h{convert_time(int(data[key][i]))[2]}\" if isinstance(data[key][i], float) else str(data[key][i])for key in data) + \" |\"\n",
    "        rows.append(row)\n",
    "    return \"\\n\".join([headers, separator] + rows)\n",
    "\n",
    "markdown_table = dict_to_datetime_markdown(cent_data)\n",
    "\n",
    "# Display Markdown table\n",
    "\n",
    "display(Markdown(markdown_table))"
   ]
  },
  {
   "cell_type": "markdown",
   "metadata": {},
   "source": [
    "#### Medidas de Dispersión"
   ]
  },
  {
   "cell_type": "code",
   "execution_count": null,
   "metadata": {},
   "outputs": [],
   "source": [
    "#varianza\n",
    "#desviacion estandar\n",
    "#rango\n",
    "#coef asimetria\n",
    "#curtosis"
   ]
  },
  {
   "cell_type": "code",
   "execution_count": null,
   "metadata": {},
   "outputs": [],
   "source": []
  },
  {
   "cell_type": "markdown",
   "metadata": {},
   "source": [
    "#### Análisis Intercuartílico"
   ]
  },
  {
   "cell_type": "code",
   "execution_count": null,
   "metadata": {},
   "outputs": [],
   "source": [
    "#iqr rango intercuartil\n",
    "#q1 25\n",
    "#q2 50\n",
    "#q3 75"
   ]
  },
  {
   "cell_type": "code",
   "execution_count": null,
   "metadata": {},
   "outputs": [],
   "source": [
    "def get_cuartiles_iqr(columna):\n",
    "    # Verificamos si la columna existe en el DataFrame\n",
    "    if columna not in data.columns:\n",
    "        print(f\"La columna '{columna}' no se encuentra en el DataFrame.\")\n",
    "        return\n",
    "\n",
    "    # Calculamos los cuartiles\n",
    "    Q1 = data[columna].quantile(0.25)\n",
    "    Q2 = data[columna].quantile(0.50)  # Mediana\n",
    "    Q3 = data[columna].quantile(0.75)\n",
    "\n",
    "    # Calculamos el Rango Intercuartílico (IQR)\n",
    "    IQR = Q3 - Q1\n",
    "\n",
    "    # Devolvemos los resultados como un diccionario\n",
    "    resultado = {\n",
    "        'Q1': Q1,\n",
    "        'Q2': Q2,\n",
    "        'Q3': Q3,\n",
    "        'IQR': IQR\n",
    "    }\n",
    "\n",
    "    return resultado\n",
    "\n",
    "# Calcular cuartiles de cada columna\n",
    "quarts = {}\n",
    "for x in data.columns:\n",
    "    quarts[x] = get_cuartiles_iqr(x)\n",
    "\n",
    "# Mostrar cuartiles e IQR  de todas las columnas\n",
    "print(\"Cuartiles y Rango Intercuartil (IQR):\")\n",
    "for columna, curt in curts.items():\n",
    "    print(f\"{columna}:\")\n",
    "    print(f\"\\t IQR = {quarts[columna]['IQR']}\")\n",
    "    print(f\"\\t Q1 (25%)= {quarts[columna]['Q1']}\")\n",
    "    print(f\"\\t Q2 (50%)= {quarts[columna]['Q2']}\")\n",
    "    print(f\"\\t Q3 (75%)= {quarts[columna]['Q3']}\")"
   ]
  },
  {
   "cell_type": "markdown",
   "metadata": {},
   "source": [
    "#### Visualización"
   ]
  },
  {
   "cell_type": "code",
   "execution_count": null,
   "metadata": {},
   "outputs": [],
   "source": [
    "plt.figure(figsize=(15, 6))\n",
    "sns.stripplot(x='salary', y='category', data=views, jitter=True, size=8, hue='category',palette='CMRmap', alpha=0.7)\n",
    "\n",
    "plt.xticks(ticks=np.arange(50000, 1000000, 50000), labels=[f'{int(i/1000):,}k' for i in np.arange(50000, 1000000, 50000)])\n",
    "plt.yticks(ticks=[0], labels=[''])\n",
    "plt.ylabel('Salario promedio')\n",
    "plt.xlabel('Valor (en dólares)')\n",
    "plt.title('Distribución de salarios promedio')\n",
    "\n",
    "plt.show()"
   ]
  },
  {
   "cell_type": "code",
   "execution_count": null,
   "metadata": {},
   "outputs": [],
   "source": [
    "# Plotting the histogram\n",
    "plt.figure(figsize=(12, 8))\n",
    "plt.subplot(1, 2, 1)  # (rows, columns, index)\n",
    "sns.histplot(apps, kde=True, color='green', bins=30)\n",
    "plt.title('Histograma')\n",
    "plt.xlabel('Visitas')\n",
    "plt.ylabel('Frecuencia')\n",
    "\n",
    "# Calculate mean and quartiles\n",
    "mean_value = np.mean(apps)\n",
    "q1 = np.percentile(apps, 25)\n",
    "q3 = np.percentile(apps, 75)\n",
    "\n",
    "# Plotting the boxplot\n",
    "plt.subplot(1, 2, 2)\n",
    "sns.boxplot(data=views, color='skyblue', orient='v')\n",
    "plt.title('Diagrama de caja')\n",
    "plt.ylabel('Salario promedio')\n",
    "\n",
    "# Annotate the mean and quartile values on the boxplot\n",
    "#plt.text(0.05, mean_value, f'Promedio: {mean_value:.0f}', color='blue', fontsize=10)\n",
    "#plt.text(0.05, q1, f'Q1: {q1:.0f}', color='blue', fontsize=10)\n",
    "#plt.text(0.05, q3, f'Q3: {q3:.0f}', color='blue', fontsize=10)\n",
    "\n",
    "# Display the plot\n",
    "plt.tight_layout()\n",
    "plt.show()"
   ]
  },
  {
   "cell_type": "markdown",
   "metadata": {},
   "source": [
    "## Análisis de atributos cualitativos"
   ]
  },
  {
   "cell_type": "code",
   "execution_count": null,
   "metadata": {},
   "outputs": [],
   "source": [
    "df_merged = df_postings.merge(df_companies, left_on='company_id', right_on='company_id', how='left')\n",
    "\n",
    "#setting the colors\n",
    "colors = sns.color_palette('viridis', 7)\n",
    "\n",
    "\n",
    "# Plotting the boxplot\n",
    "plt.figure(figsize=(10,5))\n",
    "sns.boxplot(x='company_size', y='med_salary', data=df_merged,palette=colors)\n",
    "plt.title('Distribución de salarios por tamaño de empresa')\n",
    "plt.xlabel('Tamaño de la empresa')\n",
    "plt.ylabel('Salario medio')\n",
    "plt.xticks(rotation=45)\n",
    "plt.show()"
   ]
  },
  {
   "cell_type": "markdown",
   "metadata": {},
   "source": [
    "La mediana de los salarios no varía significativamente entre diferentes tamaños de empresa.\n",
    "Hay muchos valores atípicos, lo que indica que algunos empleados en empresas de cualquier tamaño pueden recibir salarios considerablemente más altos.\n",
    "Aunque se podría esperar que empresas más grandes pagaran mejor, este gráfico sugiere que la variabilidad dentro de cada grupo es alta y que el tamaño de la empresa no es necesariamente un indicador claro del salario."
   ]
  },
  {
   "cell_type": "code",
   "execution_count": null,
   "metadata": {},
   "outputs": [],
   "source": [
    "\n",
    "experience_level_distribution = df_postings['formatted_experience_level'].value_counts()\n",
    "\n",
    "custom_order = ['Internship', 'Entry level', 'Associate', 'Mid-Senior level', 'Director', 'Executive']\n",
    "\n",
    "experience_level_distribution = experience_level_distribution.reindex(custom_order)\n",
    "\n",
    "#Dict of colors for each experience level\n",
    "experience_colors = {\n",
    "    'Entry level': '#1c1aaf',\n",
    "    'Associate': '#006b3d',\n",
    "    'Mid-Senior level': '#fdcc0c',\n",
    "    'Director': '#c23b21',\n",
    "    'Not Applicable': '#888888',\n",
    "    'Internship': '#0066e7',\n",
    "    'Executive': '#a11c0f'\n",
    "}\n",
    "\n",
    "# Define base colors (can be any color scheme)\n",
    "base_colors = [experience_colors.get(level) for level in experience_level_distribution.index]\n",
    "\n",
    "# Plotting the bar chart\n",
    "plt.figure(figsize=(10, 6))\n",
    "experience_level_distribution.plot(kind='bar', color=base_colors)\n",
    "plt.title('Distribución de requerimientos de experiencia laboral en las ofertas de trabajo')\n",
    "plt.xlabel('Nivel de experiencia')\n",
    "plt.ylabel('Número de ofertas')\n",
    "plt.xticks(rotation=45)\n",
    "plt.show()"
   ]
  },
  {
   "cell_type": "markdown",
   "metadata": {},
   "source": [
    "La mayoría de las ofertas de empleo están dirigidas a personas con experiencia media o en su primer empleo, lo que sugiere una alta demanda en estos niveles.\n",
    "Las oportunidades para roles directivos o ejecutivos son mucho más limitadas, lo cual es esperable, ya que estos puestos requieren más experiencia y son menos comunes.\n",
    "Las pasantías (Internship) son escasas, lo que podría indicar una menor oferta de oportunidades para estudiantes o recién graduados.\n",
    "Este patrón sugiere que las empresas buscan principalmente talento joven y personas con experiencia intermedia, mientras que los roles de alto nivel son menos accesibles."
   ]
  },
  {
   "cell_type": "code",
   "execution_count": null,
   "metadata": {},
   "outputs": [],
   "source": [
    "# Sample Data\n",
    "companies = ['Google', 'Amazon', 'Microsoft']\n",
    "job_counts = [120, 150, 100]\n",
    "# Create a figure and axis\n",
    "fig, ax = plt.subplots(figsize=(8, 6))\n",
    "\n",
    "# Define base colors (can be any color scheme)\n",
    "base_colors = ['#4CAF50', '#FF9800', '#2196F3'] # Green, Orange, Blue\n",
    "\n",
    "# Create a gradient effect by layering transparent bars\n",
    "num_layers = 10 # More layers = smoother gradient\n",
    "for i in range(num_layers):\n",
    "    alpha = (i + 1) / num_layers # Increasing opacity\n",
    "    for j, value in enumerate(job_counts):\n",
    "        ax.bar(companies[j], value * (i + 1) / num_layers, color=base_colors[j], alpha=alpha, edgecolor='none')\n",
    "\n",
    "# Labels & Title\n",
    "plt.xlabel('Company', fontsize=12, fontweight='bold')\n",
    "plt.ylabel('Number of Job Postings', fontsize=12, fontweight='bold')\n",
    "plt.title('Job Postings Per Company (Gradient Effect)', fontsize=14, fontweight='bold')\n",
    "\n",
    "# Format Ticks\n",
    "plt.xticks(fontsize=11)\n",
    "plt.yticks(fontsize=11)\n",
    "\n",
    "# Add Grid\n",
    "plt.grid(axis='y', linestyle='--', alpha=0.5)\n",
    "\n",
    "# Annotate Bars\n",
    "for i, value in enumerate(job_counts):\n",
    "    plt.text(i, value + 5, str(value), ha='center', fontsize=12, fontweight='bold', color='black')\n",
    "    \n",
    "# Remove Borders (Spines)\n",
    "ax.spines['top'].set_visible(False)\n",
    "ax.spines['right'].set_visible(False)\n",
    "plt.show()"
   ]
  },
  {
   "cell_type": "code",
   "execution_count": null,
   "metadata": {},
   "outputs": [],
   "source": [
    "#IMPORTANTE: CERRAR LA CONEXIÓN\n",
    "conn.close()"
   ]
  }
 ],
 "metadata": {
  "kernelspec": {
   "display_name": ".venv",
   "language": "python",
   "name": "python3"
  },
  "language_info": {
   "codemirror_mode": {
    "name": "ipython",
    "version": 3
   },
   "file_extension": ".py",
   "mimetype": "text/x-python",
   "name": "python",
   "nbconvert_exporter": "python",
   "pygments_lexer": "ipython3",
   "version": "3.12.9"
  }
 },
 "nbformat": 4,
 "nbformat_minor": 2
}
