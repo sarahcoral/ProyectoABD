{
 "cells": [
  {
   "cell_type": "markdown",
   "metadata": {},
   "source": [
    "# CARGAR BASE DE DATOS"
   ]
  },
  {
   "cell_type": "code",
   "execution_count": 1,
   "metadata": {},
   "outputs": [
    {
     "name": "stdout",
     "output_type": "stream",
     "text": [
      "Project folder set to c:\\Users\\Sarah\\Code\\ProyectoABD for load_database.ipynb\n",
      "c:\\Users\\Sarah\\Code\\ProyectoABD\\proyectoabdbook\\visualization_notebooks\n",
      "test script loaded!\n",
      "Project folder set to c:\\Users\\Sarah\\Code\\ProyectoABD for load_database.py\n",
      "You're running on local\n",
      "Database already loaded!\n"
     ]
    }
   ],
   "source": [
    "# SET PROJECT FOLDER MAIN DIRECTORY\n",
    "from pathlib import Path\n",
    "def find_project_folder_path(start_path: Path, target_folder_name: str) -> Path:\n",
    "    current_path = start_path\n",
    "    \n",
    "    # Traverse up the directory tree\n",
    "    while current_path != current_path.parent:  # While not at the root directory\n",
    "        if current_path.name == target_folder_name:\n",
    "            return current_path\n",
    "        current_path = current_path.parent\n",
    "    \n",
    "    # If we reached the root without finding the folder, return None\n",
    "    return None\n",
    "start_path = Path.cwd()\n",
    "project_folder = find_project_folder_path(start_path, 'ProyectoABD')\n",
    "\n",
    "print(f\"Project folder set to {project_folder} for load_database.ipynb\")\n",
    "scripts_folder = project_folder / \"Scripts\"\n",
    "\n",
    "#MODULE PATHS\n",
    "import sys\n",
    "#sys.path.append(str(project_folder))\n",
    "\n",
    "# MODULE IMPORTS\n",
    "sys.path.append(str(scripts_folder))\n",
    "import load_database\n",
    "\n",
    "load_database.load_db(project_folder)\n",
    "\n"
   ]
  }
 ],
 "metadata": {
  "kernelspec": {
   "display_name": ".venv",
   "language": "python",
   "name": "python3"
  },
  "language_info": {
   "codemirror_mode": {
    "name": "ipython",
    "version": 3
   },
   "file_extension": ".py",
   "mimetype": "text/x-python",
   "name": "python",
   "nbconvert_exporter": "python",
   "pygments_lexer": "ipython3",
   "version": "3.12.9"
  }
 },
 "nbformat": 4,
 "nbformat_minor": 2
}
