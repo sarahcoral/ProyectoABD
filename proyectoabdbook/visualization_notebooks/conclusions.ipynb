{
 "cells": [
  {
   "cell_type": "markdown",
   "id": "c14681f9-14c1-442f-a3c4-a9f634d9c147",
   "metadata": {},
   "source": [
    "# Análisis Exploratorio"
   ]
  },
  {
   "cell_type": "markdown",
   "id": "211ecb30-1976-48b2-afc3-031f1f096a3a",
   "metadata": {
    "jp-MarkdownHeadingCollapsed": true
   },
   "source": [
    "## ¿Qué hacemos con el código?"
   ]
  },
  {
   "cell_type": "markdown",
   "id": "0f252bed-9be2-4422-8eaa-5f0dcdcc997e",
   "metadata": {},
   "source": [
    "### 1. **Carga de librerías:**  \n",
    "   - Se importan bibliotecas clave para análisis de datos como `pandas`, `numpy`, `matplotlib`, y `seaborn`.\n",
    "   - También se usa `sqlite3` para interactuar con una base de datos SQL.\n",
    "\n",
    "### 2. **Configuración del proyecto:**  \n",
    "   - Se configuran rutas para módulos y scripts adicionales.\n",
    "\n",
    "### 3. **Carga de la base de datos:**  \n",
    "   - Se establece conexión con un archivo SQLite llamado `linkedindatabase.db`.\n",
    "   - Se cargan varias tablas en `DataFrames` de `pandas`, incluyendo:\n",
    "     - `clean_numerical_postings`: Contiene datos salariales filtrados.\n",
    "     - `postings`, `companies`, `industries`, `job_industries`, `skills`, `job_skills`, `company_industries`: Tablas con información sobre ofertas de trabajo, compañías e industrias.\n",
    "\n",
    "### 4. **Limpieza de datos:**  \n",
    "   - Se eliminan valores extremos en las columnas `max_salary`, `min_salary` y `normalized_salary` para descartar datos irreales.\n",
    "   - Se calcula la duración de las ofertas de trabajo (`duration`), restando `closed_time` de `listed_time`."
   ]
  },
  {
   "cell_type": "markdown",
   "id": "65006a83-cd37-47b5-a0ea-fc19750f82ef",
   "metadata": {
    "jp-MarkdownHeadingCollapsed": true
   },
   "source": [
    "## Análisis de las gráficas"
   ]
  },
  {
   "cell_type": "markdown",
   "id": "884d8579-f353-4396-86f4-b2b569457574",
   "metadata": {},
   "source": [
    "#### **1. Matriz de Correlación: Salario, Duración, Aplicaciones y Vistas**\n",
    "- **Correlaciones clave:**  \n",
    "  - Si el `normalized_salary` tiene una correlación positiva con `applies` y `views`, significa que los trabajos con salarios más altos atraen más atención y postulaciones.  \n",
    "  - Si la `duration` tiene correlaciones negativas con `applies` y `views`, sugiere que las ofertas populares tienden a cerrarse más rápido.  \n",
    "  - Una baja correlación entre `salary` y `duration` podría indicar que la duración de una oferta no depende directamente del salario.  \n",
    "\n",
    "- **Conclusión avanzada:**  \n",
    "  - Si los trabajos con mayor salario no tienen muchas aplicaciones en comparación con los de menor salario, podría deberse a requisitos más altos o a que los postulantes consideran estos puestos inaccesibles.  \n",
    "  - Una correlación negativa fuerte entre `duration` y `views` podría sugerir que los trabajos con más visibilidad tienden a cerrarse rápido, lo que puede influir en estrategias de publicación para empresas."
   ]
  },
  {
   "cell_type": "markdown",
   "id": "257863f4-4b6d-4dc3-9394-189637d007a0",
   "metadata": {},
   "source": [
    "#### **2. Empresas con Mayor Salario Promedio**\n",
    "- **Patrones de mercado:**  \n",
    "  - Si las empresas con salarios más altos pertenecen a un sector específico (ejemplo: tecnología o finanzas), indica que ciertas industrias están impulsando el crecimiento salarial.  \n",
    "  - La dispersión de los salarios podría mostrar si los sueldos altos son exclusivos de unas pocas empresas o si hay una tendencia general en varias compañías.  \n",
    "\n",
    "- **Conclusión avanzada:**  \n",
    "  - Si pocas empresas ofrecen salarios muy altos, es posible que haya monopolización del talento, donde solo unas cuantas organizaciones pueden competir por los mejores candidatos.  \n",
    "  - Si hay un rango salarial amplio dentro de las empresas del top 10, indica que los salarios pueden depender del puesto más que de la empresa en sí."
   ]
  },
  {
   "cell_type": "markdown",
   "id": "aa3e8a55-afce-4465-b9fd-b20735f9b1a9",
   "metadata": {},
   "source": [
    "#### **3. Empresas con Más Ofertas de Trabajo**\n",
    "- **Tendencias de contratación:**  \n",
    "  - Si hay una superposición entre las empresas con más ofertas y las de mayores salarios, significa que algunas compañías están dominando tanto en cantidad como en calidad de contratación.  \n",
    "  - Si la empresa con más ofertas no está en el top de salarios, podría indicar una estrategia de contratación masiva con salarios moderados.  \n",
    "\n",
    "- **Conclusión avanzada:**  \n",
    "  - Empresas con muchas ofertas pero salarios bajos pueden estar contratando para posiciones temporales o de alta rotación.  \n",
    "  - Un alto número de ofertas en pocas empresas puede indicar una concentración del mercado, reduciendo la diversidad de oportunidades para los postulantes."
   ]
  },
  {
   "cell_type": "markdown",
   "id": "0733ba3f-1d9d-4d45-a9b2-ac98407d39d4",
   "metadata": {},
   "source": [
    "#### **4. Industrias con Más Empresas**\n",
    "- **Dominio de sectores específicos:**  \n",
    "  - Si las industrias más grandes coinciden con las de mayor salario, indica que el crecimiento económico en ciertos sectores está atrayendo más inversión.  \n",
    "  - Si hay una industria con muchas empresas pero no está en el top de salarios, significa que tiene alta competencia y posiblemente márgenes de ganancia ajustados.  \n",
    "\n",
    "- **Conclusión avanzada:**  \n",
    "  - Si la industria con más empresas también lidera en ofertas de empleo, significa que está en expansión activa.  \n",
    "  - Una industria con muchas empresas pero sin dominar los salarios podría estar fragmentada, sin empresas grandes que impongan sueldos altos."
   ]
  },
  {
   "cell_type": "markdown",
   "id": "8c8276f2-d886-46f3-9af9-05630541ae34",
   "metadata": {},
   "source": [
    "#### **5. Habilidades Más Solicitadas**\n",
    "- **Evolución del mercado laboral:**  \n",
    "  - Si hay muchas habilidades técnicas en el top (ej. programación, análisis de datos), significa que la demanda de talento está orientada hacia tecnología.  \n",
    "  - Si hay un equilibrio entre habilidades blandas y técnicas, indica que las empresas buscan un perfil más versátil en los candidatos.  \n",
    "\n",
    "- **Conclusión avanzada:**  \n",
    "  - Habilidades con alta demanda pero bajos salarios podrían significar que muchas personas las poseen, reduciendo su exclusividad.  \n",
    "  - Si algunas habilidades aparecen tanto en el top de demanda como en el top de salarios, significa que la oferta de talento en esa área es menor que la demanda."
   ]
  },
  {
   "cell_type": "markdown",
   "id": "f01a8e0e-ac8d-46f6-88bb-28eccc0c8213",
   "metadata": {},
   "source": [
    "#### **6. Salario Promedio por Habilidad**\n",
    "- **Competencia y exclusividad de habilidades:**  \n",
    "  - Habilidades con salarios altos pero baja demanda pueden ser altamente especializadas y difíciles de encontrar en el mercado.  \n",
    "  - Si las habilidades más demandadas no son las mejor pagadas, indica que la oferta de candidatos en esa área es alta y las empresas pueden pagar menos.  \n",
    "\n",
    "- **Conclusión avanzada:**  \n",
    "  - Si las habilidades más demandadas y mejor pagadas coinciden, significa que las empresas están en una carrera activa por captar talento en esas áreas.  \n",
    "  - Si una habilidad bien pagada no está entre las más solicitadas, podría ser un nicho lucrativo con pocas vacantes pero sueldos altos. "
   ]
  },
  {
   "cell_type": "markdown",
   "id": "33bb6660-2376-4482-830a-87cf0c24be2a",
   "metadata": {},
   "source": [
    "### **Conclusiones generales**\n",
    "1. **El salario no siempre es el principal factor en la duración de las ofertas.**  \n",
    "   - Un salario alto puede atraer más aplicaciones, pero si el puesto requiere habilidades muy especializadas, la vacante puede permanecer abierta más tiempo.  \n",
    "\n",
    "2. **Las empresas con más ofertas no siempre ofrecen los mejores salarios.**  \n",
    "   - Puede haber estrategias de contratación masiva con sueldos moderados, mientras que empresas con menos ofertas pueden estar apuntando a talento más exclusivo con mejores salarios.  \n",
    "\n",
    "3. **Las industrias con más empresas no necesariamente lideran en salarios.**  \n",
    "   - Algunos sectores tienen muchas compañías, pero los mejores sueldos pueden concentrarse en industrias más específicas.  \n",
    "\n",
    "4. **Las habilidades más solicitadas no siempre son las mejor pagadas.**  \n",
    "   - Si una habilidad es muy demandada pero tiene un salario bajo, puede indicar que hay mucha oferta de candidatos en esa área.  \n",
    "\n",
    "5. **El mercado laboral está guiado por la competencia entre oferta y demanda de talento.**  \n",
    "   - Las habilidades con alta demanda y salarios altos son las más valiosas, mientras que las de baja demanda y bajos salarios podrían estar en riesgo de automatización o saturación.  \n"
   ]
  },
  {
   "cell_type": "markdown",
   "id": "f88913d8-7676-49cc-ad0d-812157c6dc61",
   "metadata": {},
   "source": [
    "# Análisis Descriptivo:"
   ]
  },
  {
   "cell_type": "markdown",
   "id": "532dda7f-66e6-483c-a442-a6ef5321c8be",
   "metadata": {
    "jp-MarkdownHeadingCollapsed": true
   },
   "source": [
    "## ¿Qué hacemos con el código?"
   ]
  },
  {
   "cell_type": "markdown",
   "id": "35490409-3bef-4699-8f0b-95873f3a1190",
   "metadata": {},
   "source": [
    "### **1. Estructura del Notebook**\n",
    "- Se importan librerías esenciales (`pandas`, `numpy`, `matplotlib`, `seaborn`, `sqlite3`).\n",
    "- Se carga una base de datos SQLite (`linkedindatabase.db`).\n",
    "- Se extraen varias tablas de la base de datos:\n",
    "  - `clean_numerical_postings` (datos numéricos limpios sobre ofertas de trabajo).\n",
    "  - `postings` (ofertas de trabajo).\n",
    "  - `companies` (empresas).\n",
    "  - `industries` (industrias).\n",
    "  - `job_industries` (relación entre empleos e industrias).\n",
    "  - `skills` (habilidades).\n",
    "  - `job_skills` (relación entre empleos y habilidades).\n",
    "\n",
    "### **2. Cálculo de estadísticas descriptivas**\n",
    "- Se filtran los datos de salario (`max_salary`, `min_salary`, `normalized_salary`) para eliminar valores extremos.\n",
    "- Se calculan:\n",
    "  - **Media, Mediana y Moda** para los tres tipos de salario (`normalizado`, `máximo`, `mínimo`).\n",
    "  - **Coeficiente de asimetría** para evaluar la distribución de los salarios."
   ]
  },
  {
   "cell_type": "markdown",
   "id": "9519fba1-335e-4296-8748-b8b37a1ef1c3",
   "metadata": {
    "jp-MarkdownHeadingCollapsed": true
   },
   "source": [
    "## Análisis de gráficas:"
   ]
  },
  {
   "cell_type": "markdown",
   "id": "de3956d6-651e-4dbc-8aa7-45018ebc8198",
   "metadata": {},
   "source": [
    "### **1. Distribución de salarios promedio (Gráfico de dispersión - Stripplot)**  \n",
    "#### **Análisis**  \n",
    "- La distribución de los salarios no es uniforme: algunas categorías tienen valores más concentrados, mientras que otras presentan una dispersión mucho mayor.  \n",
    "- Hay una acumulación notable en salarios bajos y una menor cantidad de valores en los extremos altos.  \n",
    "- Algunas industrias parecen pagar significativamente más que otras, lo que sugiere desigualdad salarial según el sector.  \n",
    "\n",
    "#### **Conclusión avanzada**  \n",
    "El mercado laboral tiene una segmentación fuerte en términos de salarios. Existen sectores donde los salarios están muy concentrados en ciertos rangos, mientras que otros muestran una gran variabilidad. La presencia de valores atípicos altos sugiere que ciertos puestos especializados pueden recibir compensaciones significativamente mayores.  "
   ]
  },
  {
   "cell_type": "markdown",
   "id": "38322eeb-8eac-4198-abf7-814563cdab26",
   "metadata": {},
   "source": [
    "### **2. Histograma y diagrama de caja de los salarios**  \n",
    "#### **Análisis**  \n",
    "- La distribución de los salarios tiene un **sesgo a la derecha**, lo que indica que la mayoría de los empleados gana menos que el promedio.  \n",
    "- La mediana es considerablemente menor que la media, lo que confirma la existencia de valores atípicos altos.  \n",
    "- El primer cuartil (Q1) y el tercer cuartil (Q3) están bastante separados, lo que implica alta dispersión en los datos.  \n",
    "\n",
    "#### **Conclusión avanzada**  \n",
    "El salario promedio puede ser engañoso al evaluar oportunidades laborales, ya que unos pocos valores altos elevan la media. Para una persona buscando empleo, **el salario mediano es una mejor referencia**. Además, la alta dispersión sugiere que negociar el salario puede ser clave, pues las diferencias dentro de la misma industria pueden ser significativas.  "
   ]
  },
  {
   "cell_type": "markdown",
   "id": "0f6d08d3-b886-4572-bc52-2d6f6c2510c1",
   "metadata": {},
   "source": [
    "### **3. Distribución de vistas y aplicaciones (Gráfico de dispersión - Logarítmico)**  \n",
    "#### **Análisis**  \n",
    "- Se observa que la relación entre vistas y aplicaciones no es lineal: muchas publicaciones con muchas vistas no necesariamente tienen más aplicaciones.  \n",
    "- Algunas ofertas reciben una cantidad masiva de visitas pero pocas aplicaciones, lo que indica que los candidatos pueden estar descartándolas por requisitos poco atractivos o salarios bajos.  \n",
    "- La escala logarítmica muestra que la mayoría de las publicaciones tienen menos de 1,000 vistas, mientras que solo unas pocas superan las 10,000.\n",
    "\n",
    "#### **Conclusión avanzada**  \n",
    "El hecho de que muchas ofertas sean vistas pero no aplicadas indica problemas en los requisitos, la compensación o la percepción del empleo. Esto sugiere que los reclutadores deberían analizar mejor cómo presentan sus ofertas y ajustar detalles como salario y beneficios para hacerlas más atractivas.  "
   ]
  },
  {
   "cell_type": "markdown",
   "id": "f4e00fe1-dc52-417d-a0af-a0b24d43340d",
   "metadata": {},
   "source": [
    "### **4. Distribución de visitas a ofertas de empleo (Gráfico de dispersión - Logarítmico)**  \n",
    "#### **Análisis**  \n",
    "- Se confirma que hay una gran desigualdad en la visibilidad de las ofertas de trabajo.  \n",
    "- Algunas ofertas acumulan una cantidad desproporcionada de visitas, mientras que la mayoría apenas recibe tráfico.  \n",
    "- La visualización logarítmica permite ver que muchas publicaciones tienen menos de 100 visitas, lo que sugiere que dependen de la estrategia de marketing o visibilidad en la plataforma.  \n",
    "\n",
    "#### **Conclusión avanzada**  \n",
    "La distribución desigual de visitas implica que no todas las ofertas tienen las mismas oportunidades de atraer candidatos. Esto puede deberse a la popularidad de la empresa, el atractivo del cargo o la optimización de la publicación. **Las empresas con pocas visitas deberían revisar sus estrategias de difusión y asegurarse de que sus ofertas sean fácilmente encontradas.**  "
   ]
  },
  {
   "cell_type": "markdown",
   "id": "3271dc42-65aa-4d87-bb55-2feb2f4d2e2f",
   "metadata": {},
   "source": [
    "### **5. Histograma de visitas**  \n",
    "#### **Análisis**  \n",
    "- Se confirma que la mayoría de las publicaciones tienen un número de visitas bajo.  \n",
    "- Solo un pequeño porcentaje de publicaciones recibe tráfico masivo, lo que sugiere que ciertos empleadores dominan la atención en la plataforma.  \n",
    "- Al aplicar la escala logarítmica, se observa una caída exponencial en la cantidad de ofertas conforme el número de visitas aumenta.  \n",
    "\n",
    "#### **Conclusión avanzada**  \n",
    "El mercado laboral online está dominado por pocas publicaciones que reciben la mayor parte de la atención. Esto implica que **la competencia por visibilidad es alta** y que los empleadores deben optimizar sus estrategias de marketing laboral. **Para los candidatos, esto significa que las oportunidades más visibles pueden no ser las mejores, ya que muchas excelentes ofertas podrían estar ocultas en publicaciones con menos tráfico.**  "
   ]
  },
  {
   "cell_type": "markdown",
   "id": "872d0b8b-0675-4556-bcba-687db545df7f",
   "metadata": {},
   "source": [
    "### **Conclusiones generales**  \n",
    "- **El salario promedio no refleja la realidad del mercado** debido a la existencia de valores atípicos. La mediana y los cuartiles son mejores indicadores.  \n",
    "- **Muchas ofertas reciben visitas pero pocas aplicaciones**, lo que indica que los candidatos son selectivos o que los requisitos no son atractivos.  \n",
    "- **Un pequeño número de ofertas concentra la mayoría del tráfico**, lo que sugiere una competencia desigual por la visibilidad.  \n",
    "- **Los empleadores deben mejorar sus estrategias para atraer talento**, mientras que los candidatos deben explorar más allá de las ofertas más vistas para encontrar buenas oportunidades.  "
   ]
  },
  {
   "cell_type": "markdown",
   "id": "6493eeec-07cf-4a18-874c-ff8fc717c9b8",
   "metadata": {},
   "source": [
    "# Análisis predictivo"
   ]
  },
  {
   "cell_type": "markdown",
   "id": "6ba58708-584c-4f24-8d8a-9a928d14beb9",
   "metadata": {},
   "source": [
    "## Análisis de gráficas"
   ]
  },
  {
   "cell_type": "markdown",
   "id": "6e73de99-1901-4029-8e99-0bc08d6f3c8a",
   "metadata": {},
   "source": [
    "### **1. Variación en la publicación de ofertas de empleo** \n",
    "#### **Análisis**\n",
    "- Los datos muestran que la cantidad de publicaciones de empleo **no es constante**, sino que sigue un patrón fluctuante.  \n",
    "- Hay días en los que se concentran más ofertas, lo que sugiere que ciertos períodos tienen **mayor actividad de contratación**.  \n",
    "- Esto puede indicar que las empresas tienden a publicar ofertas en momentos estratégicos, posiblemente alineados con ciclos de presupuesto, fin de mes o días laborales clave.  \n",
    "\n",
    "#### **Conclusión avanzada**\n",
    "El número de publicaciones no es constante y parece tener **patrones estacionales**. Esto puede deberse a estrategias de contratación en ciertas épocas del mes o la semana. Si se identifican picos de publicación, los candidatos pueden elegir mejor cuándo aplicar para maximizar sus oportunidades."
   ]
  },
  {
   "cell_type": "markdown",
   "id": "55949b2a-2655-4ae7-b3aa-1df3cbefe92b",
   "metadata": {},
   "source": [
    "### **2. Predicción de salario promedio para Mayo 2024 (Regresión lineal)**\n",
    "#### **Análisis**\n",
    "- Basándose en los datos históricos, se estimó el salario promedio para **el 1 de mayo de 2024**.  \n",
    "- El valor obtenido indica que los salarios en ese mes seguirán una trayectoria esperada dentro de los valores previamente registrados.  \n",
    "- No se observan cambios bruscos que sugieran una alteración significativa del mercado, lo que implica **cierta estabilidad en la oferta y la demanda de empleo en este período**.  \n",
    "\n",
    "#### **Conclusión avanzada**\n",
    "El modelo sugiere que **el salario promedio tendrá una tendencia predecible basada en datos pasados**. Sin embargo, la regresión lineal supone que la tendencia se mantiene estable, lo que puede no ser cierto si hay eventos económicos o cambios en el mercado laboral. **Validar el modelo con datos futuros será clave para mejorar su precisión**. Es decir, La evolución de los salarios en el tiempo sugiere un mercado estable sin cambios extremos en la compensación."
   ]
  },
  {
   "cell_type": "markdown",
   "id": "213453aa-a85d-44c1-90bb-22fad3bc4795",
   "metadata": {},
   "source": [
    "### **3. Tendencia de salarios en función del tiempo**\n",
    "#### **Análisis**\n",
    "- La relación entre la fecha de publicación y el salario muestra que **los salarios varían con el tiempo, pero mantienen una dirección clara**.  \n",
    "- Se observa que en ciertos períodos los salarios son más altos o más bajos, lo que puede estar relacionado con la demanda de talento en distintos momentos.  \n",
    "- La tendencia general sugiere un **comportamiento predecible** del salario promedio en función de la fecha de publicación de las ofertas.  \n",
    "\n",
    "#### **Conclusión avanzada**\n",
    "Los salarios de las ofertas no son aleatorios, sino que siguen una tendencia específica en el tiempo, influenciada por factores del mercado laboral.  "
   ]
  },
  {
   "cell_type": "markdown",
   "id": "f10e9691-95b9-4b77-b617-c398f8036fe3",
   "metadata": {},
   "source": [
    "\n",
    "\n",
    "#### **3. Predicción del salario promedio para Mayo 2024**  \n",
    "\n",
    "\n",
    "💡 **Conclusión clave**:, al menos en el período analizado.  \n",
    "\n",
    "---\n",
    "\n",
    "### **Conclusión general**  \n",
    "- El volumen de publicaciones de empleo **no es uniforme** y presenta períodos de alta actividad.  \n",
    "- Los salarios varían en función del tiempo, pero siguen **un patrón predecible**.  \n",
    "- La proyección para mayo de 2024 indica **estabilidad en los salarios**, sin cambios abruptos en la tendencia.  \n",
    "\n",
    "Este análisis proporciona información clave para entender **cómo y cuándo se publican ofertas, cómo varían los salarios en el tiempo y qué se espera en el corto plazo**. 🚀"
   ]
  }
 ],
 "metadata": {
  "kernelspec": {
   "display_name": "Python 3 (ipykernel)",
   "language": "python",
   "name": "python3"
  },
  "language_info": {
   "codemirror_mode": {
    "name": "ipython",
    "version": 3
   },
   "file_extension": ".py",
   "mimetype": "text/x-python",
   "name": "python",
   "nbconvert_exporter": "python",
   "pygments_lexer": "ipython3",
   "version": "3.13.1"
  }
 },
 "nbformat": 4,
 "nbformat_minor": 5
}
