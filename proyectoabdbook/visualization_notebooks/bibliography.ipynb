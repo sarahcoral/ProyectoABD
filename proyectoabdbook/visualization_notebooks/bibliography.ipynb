{
 "cells": [
  {
   "cell_type": "markdown",
   "metadata": {},
   "source": [
    "# Bibliografía\n",
    "\n",
    "www.kaggle.com, \"LinkedIn Job Postings (2023 - 2024)\" s/f. [En línea]. Disponible en: https://www.kaggle.com/datasets/arshkon/linkedin-job-postings."
   ]
  }
 ],
 "metadata": {
  "kernelspec": {
   "display_name": ".venv",
   "language": "python",
   "name": "python3"
  },
  "language_info": {
   "name": "python",
   "version": "3.12.9"
  }
 },
 "nbformat": 4,
 "nbformat_minor": 2
}
