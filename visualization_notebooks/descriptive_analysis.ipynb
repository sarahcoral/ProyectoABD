{
 "cells": [
  {
   "cell_type": "code",
   "execution_count": null,
   "metadata": {},
   "outputs": [],
   "source": [
    "#IMPORTS\n",
    "import sys\n",
    "import json\n",
    "from pathlib import Path\n",
    "import sqlite3\n",
    "import pandas as pd\n",
    "import numpy as np\n",
    "import matplotlib.pyplot as plt\n",
    "import seaborn as sns\n",
    "from IPython.display import Markdown\n"
   ]
  },
  {
   "cell_type": "code",
   "execution_count": 3,
   "metadata": {},
   "outputs": [
    {
     "name": "stdout",
     "output_type": "stream",
     "text": [
      "Local configuration file loaded succesfully\n"
     ]
    }
   ],
   "source": [
    "#SET PROJECT FOLDER MAIN DIRECTORY\n",
    "project_folder = Path.cwd().parent\n",
    "\n",
    "#LOAD LOCAL_SETUP_CONFIG FILE\n",
    "config_path = project_folder / \"local_setup_config.json\"\n",
    "if config_path.exists():\n",
    "    with open(config_path, \"r\", encoding=\"utf-8\") as file:\n",
    "        local_config  = json.load(file)\n",
    "    print('Local configuration file loaded succesfully')\n",
    "else:\n",
    "    raise FileNotFoundError(f\"Error: {config_path} not found\")\n",
    "\n",
    "# set run_local\n",
    "run_local = local_config[\"run_local\"]"
   ]
  },
  {
   "cell_type": "code",
   "execution_count": null,
   "metadata": {},
   "outputs": [],
   "source": [
    "#MODULE PATHS\n",
    "sys.path.append(str(project_folder))"
   ]
  },
  {
   "cell_type": "code",
   "execution_count": null,
   "metadata": {},
   "outputs": [],
   "source": [
    "# MODULE IMPORTS\n",
    "import load_database"
   ]
  },
  {
   "cell_type": "code",
   "execution_count": 6,
   "metadata": {},
   "outputs": [
    {
     "name": "stdout",
     "output_type": "stream",
     "text": [
      "Project folder set to c:\\Users\\Sarah\\Code\\ProyectoABD for load_database.py\n",
      "Local configuration file loaded succesfully\n",
      "You're running on local\n",
      "Database already loaded!\n"
     ]
    }
   ],
   "source": [
    "#LOAD DATABASE\n",
    "load_database.load_db(project_folder)"
   ]
  },
  {
   "cell_type": "code",
   "execution_count": null,
   "metadata": {},
   "outputs": [],
   "source": [
    "#DATABASE CONNECTION\n",
    "if run_local:\n",
    "    linkedindatabase_path = project_folder / \"database\" / \"linkedindatabase.db\"\n",
    "else:\n",
    "    linkedindatabase_path = project_folder / \"linkedindatabase.db\"\n",
    "\n",
    "if linkedindatabase_path.exists():\n",
    "    conn = sqlite3.connect(linkedindatabase_path)\n",
    "    print(\"Opened database successfully\")\n",
    "else:\n",
    "    raise FileNotFoundError(f\"Error: {linkedindatabase_path} not found\")"
   ]
  },
  {
   "cell_type": "markdown",
   "metadata": {},
   "source": [
    "<div align=\"center\">\n",
    "   <h1>ANÁLISIS DESCRIPTIVO</h1>\n",
    "</div>\n",
    "\n",
    "A continuación se presenta una descripción y visualización de los datos"
   ]
  },
  {
   "cell_type": "code",
   "execution_count": null,
   "metadata": {},
   "outputs": [],
   "source": [
    "#DATAFRAMES CREATION\n",
    "\n",
    "#numerical data\n",
    "df_num = pd.read_sql('SELECT * FROM clean_numerical_postings', conn)\n",
    "\n",
    "df_num = df_num[df_num['max_salary'] <= 10000000]\n",
    "df_num = df_num[df_num['min_salary'] <= 10000000]\n",
    "df_num = df_num[df_num['normalized_salary'] <= 10000000]\n",
    "\n",
    "df_num = df_num[df_num['max_salary'] > 100]\n",
    "df_num = df_num[df_num['min_salary'] > 100]\n",
    "df_num = df_num[df_num['normalized_salary'] > 100]\n",
    "\n",
    "#postings\n",
    "df_postings = pd.read_sql('SELECT * FROM postings', conn)\n",
    "\n",
    "#companies\n",
    "df_companies = pd.read_sql('SELECT * FROM companies', conn)\n",
    "\n",
    "#industries\n",
    "df_industries = pd.read_sql('SELECT * FROM industries', conn)\n",
    "\n",
    "#job industries\n",
    "df_job_industries = pd.read_sql('SELECT * FROM job_industries', conn)\n",
    "\n",
    "#skills\n",
    "df_skills = pd.read_sql('SELECT * FROM skills', conn)\n",
    "\n",
    "#job skills\n",
    "df_job_skills = pd.read_sql('SELECT * FROM job_skills', conn)\n",
    "\n"
   ]
  },
  {
   "cell_type": "code",
   "execution_count": null,
   "metadata": {},
   "outputs": [],
   "source": [
    "#FUNCTIONS\n",
    "\n",
    "#Convert dict to Markdown table\n",
    "def dict_to_markdown(data):\n",
    "    headers= \"| \" + \" | \".join(data.keys()) + \" |\"\n",
    "    separator = \"| \" + \" | \".join([\"---\"]*len(data)) + \" |\"\n",
    "    rows = []\n",
    "    for i in range(len(next(iter(data.values())))):\n",
    "        row = \"| \" + \" | \".join(f\"{data[key][i]:,}\" if isinstance(data[key][i], float) else str(data[key][i])for key in data) + \" |\"\n",
    "        rows.append(row)\n",
    "    return \"\\n\".join([headers, separator] + rows)\n",
    "\n",
    "# Calcular coef. de asimetría de cada columna\n",
    "def asim(col):\n",
    "    # Calculamos la media de la columna\n",
    "    media = col.mean()\n",
    "\n",
    "    # Calculamos la desviacion estandar\n",
    "    std = col.std()\n",
    "\n",
    "    # Calculamos el 3er momento alrededor del centro\n",
    "    momento_3 = ((col - media) ** 3).mean()\n",
    "\n",
    "    asim = momento_3*(1/(std**3))\n",
    "    return asim"
   ]
  },
  {
   "cell_type": "markdown",
   "metadata": {},
   "source": [
    "## Análisis Estadístico Básico\n",
    "\n",
    "se realiza un análisis estadístico básico para los siguientes atributos de cada publicación de trabajo:\n",
    "\n",
    "* Rango Salarial ofrecido para el puesto\n",
    "* Número de vistas\n",
    "* Número de aplicaciones recibidas\n",
    "* Duración de la publicación\n",
    "\n",
    "se visualizan algunas medidas de centralización y de dispersión"
   ]
  },
  {
   "cell_type": "markdown",
   "metadata": {},
   "source": [
    "### Rango salarial"
   ]
  },
  {
   "cell_type": "code",
   "execution_count": null,
   "metadata": {},
   "outputs": [],
   "source": [
    "nor_salary_insights = df_num[df_num['normalized_salary'].notnull()]\n",
    "nor_salary_insights = nor_salary_insights.sort_values(by='normalized_salary', ascending=False)\n",
    "nor_salary_insights = nor_salary_insights[nor_salary_insights['normalized_salary'] != 0]\n",
    "nor_salary_insights.rename(columns={'normalized_salary': 'salary'}, inplace=True)\n",
    "nor_salary_insights['category'] = 'normalized_salary'\n",
    "\n",
    "max_salary_insights = df_num[df_num['max_salary'].notnull()]\n",
    "max_salary_insights = max_salary_insights.sort_values(by='max_salary', ascending=False)\n",
    "max_salary_insights = max_salary_insights[max_salary_insights['max_salary'] != 0]\n",
    "max_salary_insights.rename(columns={'max_salary': 'salary'}, inplace=True)\n",
    "max_salary_insights['category'] = 'max_salary'\n",
    "\n",
    "min_salary_insights = df_num[df_num['min_salary'].notnull()]\n",
    "min_salary_insights = min_salary_insights.sort_values(by='min_salary', ascending=False)\n",
    "min_salary_insights = min_salary_insights[min_salary_insights['min_salary'] != 0]\n",
    "min_salary_insights.rename(columns={'min_salary': 'salary'}, inplace=True)\n",
    "min_salary_insights['category'] = 'min_salary'\n",
    "\n",
    "salary_combined = pd.concat([nor_salary_insights, max_salary_insights, min_salary_insights], ignore_index=True)\n"
   ]
  },
  {
   "cell_type": "markdown",
   "metadata": {},
   "source": [
    "#### Medidas de Centralización"
   ]
  },
  {
   "cell_type": "code",
   "execution_count": null,
   "metadata": {},
   "outputs": [],
   "source": [
    "#mean salary\n",
    "\n",
    "mean_salary = nor_salary_insights['salary'].mean()\n",
    "mean_salary_max = max_salary_insights['salary'].mean()\n",
    "mean_salary_min = min_salary_insights['salary'].mean()\n",
    "\n",
    "#median salary\n",
    "\n",
    "median_salary = nor_salary_insights['salary'].median()\n",
    "median_salary_max = max_salary_insights['salary'].median()\n",
    "median_salary_min = min_salary_insights['salary'].median()\n",
    "\n",
    "#mode salary\n",
    "\n",
    "mode_salary = nor_salary_insights['salary'].mode()\n",
    "mode_salary_max = max_salary_insights['salary'].mode()\n",
    "mode_salary_min = min_salary_insights['salary'].mode()\n",
    "\n",
    "\n",
    "cent_data = {\n",
    "    'Medida': ['Promedio', 'Mediana', 'Moda'],\n",
    "    'Salario medio': [int(mean_salary), median_salary, float(mode_salary[0])],\n",
    "    'Salario máximo': [int(mean_salary_max), median_salary_max, float(mode_salary_max[0])],\n",
    "    'Salario mínimo': [int(mean_salary_min), median_salary_min, float(mode_salary_min[0])]\n",
    "}\n",
    "\n",
    "markdown_table = dict_to_markdown(cent_data)\n",
    "\n",
    "\n",
    "\n",
    "# Display Markdown table\n",
    "\n",
    "display(Markdown(markdown_table))\n"
   ]
  },
  {
   "cell_type": "markdown",
   "metadata": {},
   "source": [
    "#### Medidas de Dispersión"
   ]
  },
  {
   "cell_type": "code",
   "execution_count": null,
   "metadata": {},
   "outputs": [],
   "source": [
    "#varianza\n",
    "var_salary = nor_salary_insights['salary'].var()\n",
    "var_salary_max = max_salary_insights['salary'].var()\n",
    "var_salary_min = min_salary_insights['salary'].var()\n",
    "\n",
    "#desviacion estandar\n",
    "std_salary = nor_salary_insights['salary'].std()\n",
    "std_salary_max = max_salary_insights['salary'].std()\n",
    "std_salary_min = min_salary_insights['salary'].std()\n",
    "\n",
    "#max\n",
    "max_salary = nor_salary_insights['salary'].max()\n",
    "max_salary_max = max_salary_insights['salary'].max()\n",
    "max_salary_min = min_salary_insights['salary'].max()\n",
    "#min\n",
    "min_salary = nor_salary_insights['salary'].min()\n",
    "min_salary_max = max_salary_insights['salary'].min()\n",
    "min_salary_min = min_salary_insights['salary'].min()\n",
    "#rango\n",
    "range_salary = max_salary - min_salary\n",
    "range_salary_max = max_salary_max - min_salary_max\n",
    "range_salary_min = max_salary_min - min_salary_min\n",
    "\n",
    "#coef asimetria\n",
    "asim_salary = asim(nor_salary_insights['salary'])\n",
    "asim_salary_max = asim(max_salary_insights['salary'])\n",
    "asim_salary_min = asim(min_salary_insights['salary'])\n",
    "\n",
    "#curtosis\n",
    "kurt_salary = nor_salary_insights['salary'].kurt()\n",
    "kurt_salary_max = max_salary_insights['salary'].kurt()\n",
    "kurt_salary_min = min_salary_insights['salary'].kurt()\n",
    "\n",
    "disp_data = {\n",
    "    'Medida': ['Varianza', 'Desviación Estándar', 'Rango', 'Coeficiente de Asimetría', 'Curtosis'],\n",
    "    'Salario medio': [var_salary, std_salary, (min_salary,max_salary), asim_salary, kurt_salary],\n",
    "    'Salario máximo': [var_salary_max, std_salary_max, (min_salary_max,max_salary_max), asim_salary_max, kurt_salary_max],\n",
    "    'Salario mínimo': [var_salary_min, std_salary_min, (min_salary_min,max_salary_min), asim_salary_min, kurt_salary_min]\n",
    "}\n",
    "\n",
    "markdown_table = dict_to_markdown(disp_data)\n",
    "\n",
    "\n",
    "\n",
    "# Display Markdown table\n",
    "\n",
    "display(Markdown(markdown_table))"
   ]
  },
  {
   "cell_type": "markdown",
   "metadata": {},
   "source": [
    "#### Análisis Intercuartílico"
   ]
  },
  {
   "cell_type": "code",
   "execution_count": null,
   "metadata": {},
   "outputs": [],
   "source": []
  },
  {
   "cell_type": "markdown",
   "metadata": {},
   "source": [
    "#### Visualización"
   ]
  },
  {
   "cell_type": "code",
   "execution_count": null,
   "metadata": {},
   "outputs": [],
   "source": [
    "plt.figure(figsize=(15, 6))\n",
    "sns.stripplot(x='salary', y='category', data=nor_salary_insights, jitter=True, size=8, hue='category',palette='CMRmap', alpha=0.7)\n",
    "\n",
    "plt.xticks(ticks=np.arange(50000, 1000000, 50000), labels=[f'{int(i/1000):,}k' for i in np.arange(50000, 1000000, 50000)])\n",
    "plt.yticks(ticks=[0], labels=[''])\n",
    "plt.ylabel('Salario promedio')\n",
    "plt.xlabel('Valor (en dólares)')\n",
    "plt.title('Distribución de salarios promedio')\n",
    "\n",
    "plt.show()"
   ]
  },
  {
   "cell_type": "markdown",
   "metadata": {},
   "source": [
    "Los salarios tienden a concentrarse en valores bajos y medianos, con pocas ofertas de trabajo que superan los 400k dólares.\n",
    "Hay algunos valores extremos en la parte derecha, lo que indica que existen salarios significativamente más altos, pero en menor cantidad.\n",
    "La distribución sugiere que el mercado laboral tiene una gran cantidad de ofertas con salarios relativamente bajos, mientras que los salarios más altos son menos frecuentes."
   ]
  },
  {
   "cell_type": "code",
   "execution_count": null,
   "metadata": {},
   "outputs": [],
   "source": [
    "salary = df_num['normalized_salary'].dropna()\n",
    "\n",
    "colors = sns.color_palette('viridis', 30)\n",
    "# Plotting the histogram\n",
    "plt.figure(figsize=(12, 8))\n",
    "plt.subplot(1, 2, 1)  # (rows, columns, index)\n",
    "sns.histplot(salary, kde=True, color='skyblue', bins=30)\n",
    "plt.title('Histograma')\n",
    "plt.xlabel('Salario promedio')\n",
    "plt.ylabel('Frecuencia')\n",
    "\n",
    "# Calculate mean and quartiles\n",
    "mean_value = np.mean(salary)\n",
    "q1 = np.percentile(salary, 25)\n",
    "q3 = np.percentile(salary, 75)\n",
    "\n",
    "# Plotting the boxplot\n",
    "plt.subplot(1, 2, 2)\n",
    "sns.boxplot(data=salary, color='skyblue', orient='v')\n",
    "plt.title('Diagrama de caja')\n",
    "plt.ylabel('Salario promedio')\n",
    "\n",
    "# Annotate the mean and quartile values on the boxplot\n",
    "plt.text(0.05, mean_value, f'Promedio: {mean_value:.0f}', color='blue', fontsize=10)\n",
    "plt.text(0.05, q1, f'Q1: {q1:.0f}', color='blue', fontsize=10)\n",
    "plt.text(0.05, q3, f'Q3: {q3:.0f}', color='blue', fontsize=10)\n",
    "\n",
    "# Display the plot\n",
    "plt.tight_layout()\n",
    "plt.show()"
   ]
  },
  {
   "cell_type": "markdown",
   "metadata": {},
   "source": [
    "El histograma sugiere que la mayoría de los salarios se concentran en un rango específico, pero hay presencia de valores extremos.\n",
    "El diagrama de caja confirma la presencia de valores atípicos y muestra la mediana y los cuartiles."
   ]
  },
  {
   "cell_type": "markdown",
   "metadata": {},
   "source": [
    "### Visitas"
   ]
  },
  {
   "cell_type": "code",
   "execution_count": null,
   "metadata": {},
   "outputs": [],
   "source": [
    "views = df_num['views'].dropna()"
   ]
  },
  {
   "cell_type": "markdown",
   "metadata": {},
   "source": [
    "#### Medidas de Centralización"
   ]
  },
  {
   "cell_type": "code",
   "execution_count": null,
   "metadata": {},
   "outputs": [],
   "source": [
    "#mean views\n",
    "mean_views = views.mean()\n",
    "\n",
    "#median views\n",
    "median_views = views.median()\n",
    "\n",
    "#mode views\n",
    "mode_views = views.mode()\n",
    "\n",
    "cent_data = {\n",
    "    'Medida': ['Promedio', 'Mediana', 'Moda'],\n",
    "    'Número de vistas': [mean_views, median_views, mode_views[0]],\n",
    "}\n",
    "\n",
    "markdown_table = dict_to_markdown(cent_data)\n",
    "\n",
    "# Display Markdown table\n",
    "\n",
    "display(Markdown(markdown_table))\n"
   ]
  },
  {
   "cell_type": "markdown",
   "metadata": {},
   "source": [
    "#### Medidas de Dispersión"
   ]
  },
  {
   "cell_type": "code",
   "execution_count": null,
   "metadata": {},
   "outputs": [],
   "source": [
    "#varianza\n",
    "var_salary = nor_salary_insights['salary'].var()\n",
    "var_salary_max = max_salary_insights['salary'].var()\n",
    "var_salary_min = min_salary_insights['salary'].var()\n",
    "\n",
    "#desviacion estandar\n",
    "std_salary = nor_salary_insights['salary'].std()\n",
    "std_salary_max = max_salary_insights['salary'].std()\n",
    "std_salary_min = min_salary_insights['salary'].std()\n",
    "\n",
    "#max\n",
    "max_salary = nor_salary_insights['salary'].max()\n",
    "max_salary_max = max_salary_insights['salary'].max()\n",
    "max_salary_min = min_salary_insights['salary'].max()\n",
    "#min\n",
    "min_salary = nor_salary_insights['salary'].min()\n",
    "min_salary_max = max_salary_insights['salary'].min()\n",
    "min_salary_min = min_salary_insights['salary'].min()\n",
    "#rango\n",
    "range_salary = max_salary - min_salary\n",
    "range_salary_max = max_salary_max - min_salary_max\n",
    "range_salary_min = max_salary_min - min_salary_min\n",
    "\n",
    "#coef asimetria\n",
    "asim_salary = asim(nor_salary_insights['salary'])\n",
    "asim_salary_max = asim(max_salary_insights['salary'])\n",
    "asim_salary_min = asim(min_salary_insights['salary'])\n",
    "\n",
    "#curtosis\n",
    "kurt_salary = nor_salary_insights['salary'].kurt()\n",
    "kurt_salary_max = max_salary_insights['salary'].kurt()\n",
    "kurt_salary_min = min_salary_insights['salary'].kurt()\n",
    "\n",
    "disp_data = {\n",
    "    'Medida': ['Varianza', 'Desviación Estándar', 'Rango', 'Coeficiente de Asimetría', 'Curtosis'],\n",
    "    'Salario medio': [var_salary, std_salary, (min_salary,max_salary), asim_salary, kurt_salary],\n",
    "    'Salario máximo': [var_salary_max, std_salary_max, (min_salary_max,max_salary_max), asim_salary_max, kurt_salary_max],\n",
    "    'Salario mínimo': [var_salary_min, std_salary_min, (min_salary_min,max_salary_min), asim_salary_min, kurt_salary_min]\n",
    "}\n",
    "\n",
    "markdown_table = dict_to_markdown(disp_data)\n",
    "\n",
    "\n",
    "\n",
    "# Display Markdown table\n",
    "\n",
    "display(Markdown(markdown_table))"
   ]
  },
  {
   "cell_type": "markdown",
   "metadata": {},
   "source": [
    "#### Análisis Intercuartílico"
   ]
  },
  {
   "cell_type": "code",
   "execution_count": null,
   "metadata": {},
   "outputs": [],
   "source": []
  },
  {
   "cell_type": "markdown",
   "metadata": {},
   "source": [
    "#### Visualización"
   ]
  },
  {
   "cell_type": "code",
   "execution_count": null,
   "metadata": {},
   "outputs": [],
   "source": [
    "df_views = df_num[views]\n",
    "plt.figure(figsize=(15, 6))\n",
    "sns.stripplot(x='views', data=df_views, jitter=True, size=8, hue='category',palette='CMRmap', alpha=0.7)\n",
    "\n",
    "plt.xticks(ticks=np.arange(50000, 1000000, 50000), labels=[f'{int(i/1000):,}k' for i in np.arange(50000, 1000000, 50000)])\n",
    "plt.yticks(ticks=[0], labels=[''])\n",
    "plt.ylabel('Salario promedio')\n",
    "plt.xlabel('Valor (en dólares)')\n",
    "plt.title('Distribución de vistas')\n",
    "\n",
    "plt.show()"
   ]
  },
  {
   "cell_type": "code",
   "execution_count": null,
   "metadata": {},
   "outputs": [],
   "source": [
    "# Plotting the histogram\n",
    "plt.figure(figsize=(12, 8))\n",
    "plt.subplot(1, 2, 1)  # (rows, columns, index)\n",
    "sns.histplot(views, kde=True, color='green', bins=30)\n",
    "plt.title('Histograma')\n",
    "plt.xlabel('Visitas')\n",
    "plt.ylabel('Frecuencia')\n",
    "\n",
    "# Calculate mean and quartiles\n",
    "mean_value = np.mean(views)\n",
    "q1 = np.percentile(views, 25)\n",
    "q3 = np.percentile(views, 75)\n",
    "\n",
    "# Plotting the boxplot\n",
    "plt.subplot(1, 2, 2)\n",
    "sns.boxplot(data=views, color='skyblue', orient='v')\n",
    "plt.title('Diagrama de caja')\n",
    "plt.ylabel('Salario promedio')\n",
    "\n",
    "# Annotate the mean and quartile values on the boxplot\n",
    "#plt.text(0.05, mean_value, f'Promedio: {mean_value:.0f}', color='blue', fontsize=10)\n",
    "#plt.text(0.05, q1, f'Q1: {q1:.0f}', color='blue', fontsize=10)\n",
    "#plt.text(0.05, q3, f'Q3: {q3:.0f}', color='blue', fontsize=10)\n",
    "\n",
    "# Display the plot\n",
    "plt.tight_layout()\n",
    "plt.show()\n"
   ]
  },
  {
   "cell_type": "markdown",
   "metadata": {},
   "source": [
    "### Aplicaciones por puesto"
   ]
  },
  {
   "cell_type": "code",
   "execution_count": null,
   "metadata": {},
   "outputs": [],
   "source": [
    "apps = df_num['applies'].dropna()"
   ]
  },
  {
   "cell_type": "markdown",
   "metadata": {},
   "source": [
    "#### Medidas de Centralización"
   ]
  },
  {
   "cell_type": "code",
   "execution_count": null,
   "metadata": {},
   "outputs": [],
   "source": [
    "#mean apps\n",
    "mean_apps = apps.mean()\n",
    "\n",
    "#median apps\n",
    "median_apps = apps.median()\n",
    "\n",
    "#mode apps\n",
    "mode_apps = apps.mode()\n",
    "\n",
    "cent_data = {\n",
    "    'Medida': ['Promedio', 'Mediana', 'Moda'],\n",
    "    'Número de aplicaciones': [int(mean_apps), median_apps, mode_apps[0]],\n",
    "}\n",
    "\n",
    "markdown_table = dict_to_markdown(cent_data)\n",
    "\n",
    "# Display Markdown table\n",
    "\n",
    "display(Markdown(markdown_table))"
   ]
  },
  {
   "cell_type": "markdown",
   "metadata": {},
   "source": [
    "#### Medidas de Dispersión"
   ]
  },
  {
   "cell_type": "code",
   "execution_count": null,
   "metadata": {},
   "outputs": [],
   "source": []
  },
  {
   "cell_type": "markdown",
   "metadata": {},
   "source": [
    "#### Análisis Intercuartílico"
   ]
  },
  {
   "cell_type": "code",
   "execution_count": null,
   "metadata": {},
   "outputs": [],
   "source": []
  },
  {
   "cell_type": "markdown",
   "metadata": {},
   "source": [
    "#### Visualización"
   ]
  },
  {
   "cell_type": "code",
   "execution_count": null,
   "metadata": {},
   "outputs": [],
   "source": [
    "plt.figure(figsize=(15, 6))\n",
    "sns.stripplot(x='salary', y='category', data=views, jitter=True, size=8, hue='category',palette='CMRmap', alpha=0.7)\n",
    "\n",
    "plt.xticks(ticks=np.arange(50000, 1000000, 50000), labels=[f'{int(i/1000):,}k' for i in np.arange(50000, 1000000, 50000)])\n",
    "plt.yticks(ticks=[0], labels=[''])\n",
    "plt.ylabel('Salario promedio')\n",
    "plt.xlabel('Valor (en dólares)')\n",
    "plt.title('Distribución de salarios promedio')\n",
    "\n",
    "plt.show()"
   ]
  },
  {
   "cell_type": "code",
   "execution_count": null,
   "metadata": {},
   "outputs": [],
   "source": [
    "# Plotting the histogram\n",
    "plt.figure(figsize=(12, 8))\n",
    "plt.subplot(1, 2, 1)  # (rows, columns, index)\n",
    "sns.histplot(apps, kde=True, color='green', bins=30)\n",
    "plt.title('Histograma')\n",
    "plt.xlabel('Visitas')\n",
    "plt.ylabel('Frecuencia')\n",
    "\n",
    "# Calculate mean and quartiles\n",
    "mean_value = np.mean(apps)\n",
    "q1 = np.percentile(apps, 25)\n",
    "q3 = np.percentile(apps, 75)\n",
    "\n",
    "# Plotting the boxplot\n",
    "plt.subplot(1, 2, 2)\n",
    "sns.boxplot(data=views, color='skyblue', orient='v')\n",
    "plt.title('Diagrama de caja')\n",
    "plt.ylabel('Salario promedio')\n",
    "\n",
    "# Annotate the mean and quartile values on the boxplot\n",
    "#plt.text(0.05, mean_value, f'Promedio: {mean_value:.0f}', color='blue', fontsize=10)\n",
    "#plt.text(0.05, q1, f'Q1: {q1:.0f}', color='blue', fontsize=10)\n",
    "#plt.text(0.05, q3, f'Q3: {q3:.0f}', color='blue', fontsize=10)\n",
    "\n",
    "# Display the plot\n",
    "plt.tight_layout()\n",
    "plt.show()"
   ]
  },
  {
   "cell_type": "markdown",
   "metadata": {},
   "source": [
    "### Duración de la publicación"
   ]
  },
  {
   "cell_type": "code",
   "execution_count": null,
   "metadata": {},
   "outputs": [],
   "source": [
    "#get job duration values\n",
    "def get_duration(row):\n",
    "    if pd.notna(row['closed_time']):\n",
    "        return row['closed_time'] - row['listed_time']\n",
    "    else:\n",
    "        return None\n",
    "\n",
    "df_num['duration'] = df_num.apply(get_duration, axis=1)\n",
    "duration = df_num['duration'].dropna()"
   ]
  },
  {
   "cell_type": "markdown",
   "metadata": {},
   "source": [
    "#### Medidas de Centralización"
   ]
  },
  {
   "cell_type": "code",
   "execution_count": null,
   "metadata": {},
   "outputs": [],
   "source": [
    "#mean duration of postings\n",
    "mean_duration = duration.mean()\n",
    "\n",
    "#median duration of postings\n",
    "median_duration = duration.median()\n",
    "\n",
    "#mode duration of postings\n",
    "mode_duration = duration.mode()\n",
    "\n",
    "#convert unix time to days, hours, minutes\n",
    "def convert_time(duration):\n",
    "    days = duration//86400\n",
    "    hours = (duration%86400)//3600\n",
    "    minutes = (duration%3600)//60\n",
    "    return days, hours, minutes\n",
    "\n",
    "\n",
    "cent_data = {\n",
    "    'Medida': ['Promedio', 'Mediana', 'Moda'],\n",
    "    'Duración de la publicación': [mean_duration, median_duration, mode_duration[0]],\n",
    "}\n",
    "\n",
    "def dict_to_datetime_markdown(data):\n",
    "    headers= \"| \" + \" | \".join(data.keys()) + \" |\"\n",
    "    separator = \"| \" + \" | \".join([\"---\"]*len(data)) + \" |\"\n",
    "    rows = []\n",
    "    for i in range(len(next(iter(data.values())))):\n",
    "        row = \"| \" + \" | \".join(f\"{int(convert_time(data[key][i])[0])}d{int(convert_time(data[key][i])[1])}h{convert_time(int(data[key][i]))[2]}\" if isinstance(data[key][i], float) else str(data[key][i])for key in data) + \" |\"\n",
    "        rows.append(row)\n",
    "    return \"\\n\".join([headers, separator] + rows)\n",
    "\n",
    "markdown_table = dict_to_datetime_markdown(cent_data)\n",
    "\n",
    "# Display Markdown table\n",
    "\n",
    "display(Markdown(markdown_table))"
   ]
  },
  {
   "cell_type": "markdown",
   "metadata": {},
   "source": [
    "#### Medidas de Dispersión"
   ]
  },
  {
   "cell_type": "code",
   "execution_count": null,
   "metadata": {},
   "outputs": [],
   "source": [
    "#varianza\n",
    "#desviacion estandar\n",
    "#rango\n",
    "#coef asimetria\n",
    "#curtosis"
   ]
  },
  {
   "cell_type": "code",
   "execution_count": null,
   "metadata": {},
   "outputs": [],
   "source": []
  },
  {
   "cell_type": "markdown",
   "metadata": {},
   "source": [
    "#### Análisis Intercuartílico"
   ]
  },
  {
   "cell_type": "code",
   "execution_count": null,
   "metadata": {},
   "outputs": [],
   "source": [
    "#iqr rango intercuartil\n",
    "#q1 25\n",
    "#q2 50\n",
    "#q3 75"
   ]
  },
  {
   "cell_type": "code",
   "execution_count": null,
   "metadata": {},
   "outputs": [],
   "source": [
    "def get_cuartiles_iqr(columna):\n",
    "    # Verificamos si la columna existe en el DataFrame\n",
    "    if columna not in data.columns:\n",
    "        print(f\"La columna '{columna}' no se encuentra en el DataFrame.\")\n",
    "        return\n",
    "\n",
    "    # Calculamos los cuartiles\n",
    "    Q1 = data[columna].quantile(0.25)\n",
    "    Q2 = data[columna].quantile(0.50)  # Mediana\n",
    "    Q3 = data[columna].quantile(0.75)\n",
    "\n",
    "    # Calculamos el Rango Intercuartílico (IQR)\n",
    "    IQR = Q3 - Q1\n",
    "\n",
    "    # Devolvemos los resultados como un diccionario\n",
    "    resultado = {\n",
    "        'Q1': Q1,\n",
    "        'Q2': Q2,\n",
    "        'Q3': Q3,\n",
    "        'IQR': IQR\n",
    "    }\n",
    "\n",
    "    return resultado\n",
    "\n",
    "# Calcular cuartiles de cada columna\n",
    "quarts = {}\n",
    "for x in data.columns:\n",
    "    quarts[x] = get_cuartiles_iqr(x)\n",
    "\n",
    "# Mostrar cuartiles e IQR  de todas las columnas\n",
    "print(\"Cuartiles y Rango Intercuartil (IQR):\")\n",
    "for columna, curt in curts.items():\n",
    "    print(f\"{columna}:\")\n",
    "    print(f\"\\t IQR = {quarts[columna]['IQR']}\")\n",
    "    print(f\"\\t Q1 (25%)= {quarts[columna]['Q1']}\")\n",
    "    print(f\"\\t Q2 (50%)= {quarts[columna]['Q2']}\")\n",
    "    print(f\"\\t Q3 (75%)= {quarts[columna]['Q3']}\")"
   ]
  },
  {
   "cell_type": "markdown",
   "metadata": {},
   "source": [
    "#### Visualización"
   ]
  },
  {
   "cell_type": "code",
   "execution_count": null,
   "metadata": {},
   "outputs": [],
   "source": [
    "plt.figure(figsize=(15, 6))\n",
    "sns.stripplot(x='salary', y='category', data=views, jitter=True, size=8, hue='category',palette='CMRmap', alpha=0.7)\n",
    "\n",
    "plt.xticks(ticks=np.arange(50000, 1000000, 50000), labels=[f'{int(i/1000):,}k' for i in np.arange(50000, 1000000, 50000)])\n",
    "plt.yticks(ticks=[0], labels=[''])\n",
    "plt.ylabel('Salario promedio')\n",
    "plt.xlabel('Valor (en dólares)')\n",
    "plt.title('Distribución de salarios promedio')\n",
    "\n",
    "plt.show()"
   ]
  },
  {
   "cell_type": "code",
   "execution_count": null,
   "metadata": {},
   "outputs": [],
   "source": [
    "# Plotting the histogram\n",
    "plt.figure(figsize=(12, 8))\n",
    "plt.subplot(1, 2, 1)  # (rows, columns, index)\n",
    "sns.histplot(apps, kde=True, color='green', bins=30)\n",
    "plt.title('Histograma')\n",
    "plt.xlabel('Visitas')\n",
    "plt.ylabel('Frecuencia')\n",
    "\n",
    "# Calculate mean and quartiles\n",
    "mean_value = np.mean(apps)\n",
    "q1 = np.percentile(apps, 25)\n",
    "q3 = np.percentile(apps, 75)\n",
    "\n",
    "# Plotting the boxplot\n",
    "plt.subplot(1, 2, 2)\n",
    "sns.boxplot(data=views, color='skyblue', orient='v')\n",
    "plt.title('Diagrama de caja')\n",
    "plt.ylabel('Salario promedio')\n",
    "\n",
    "# Annotate the mean and quartile values on the boxplot\n",
    "#plt.text(0.05, mean_value, f'Promedio: {mean_value:.0f}', color='blue', fontsize=10)\n",
    "#plt.text(0.05, q1, f'Q1: {q1:.0f}', color='blue', fontsize=10)\n",
    "#plt.text(0.05, q3, f'Q3: {q3:.0f}', color='blue', fontsize=10)\n",
    "\n",
    "# Display the plot\n",
    "plt.tight_layout()\n",
    "plt.show()"
   ]
  },
  {
   "cell_type": "markdown",
   "metadata": {},
   "source": [
    "## Análisis de atributos cualitativos"
   ]
  },
  {
   "cell_type": "code",
   "execution_count": null,
   "metadata": {},
   "outputs": [],
   "source": [
    "df_merged = df_postings.merge(df_companies, left_on='company_id', right_on='company_id', how='left')\n",
    "\n",
    "#setting the colors\n",
    "colors = sns.color_palette('viridis', 7)\n",
    "\n",
    "\n",
    "# Plotting the boxplot\n",
    "plt.figure(figsize=(10,5))\n",
    "sns.boxplot(x='company_size', y='med_salary', data=df_merged,palette=colors)\n",
    "plt.title('Distribución de salarios por tamaño de empresa')\n",
    "plt.xlabel('Tamaño de la empresa')\n",
    "plt.ylabel('Salario medio')\n",
    "plt.xticks(rotation=45)\n",
    "plt.show()"
   ]
  },
  {
   "cell_type": "markdown",
   "metadata": {},
   "source": [
    "La mediana de los salarios no varía significativamente entre diferentes tamaños de empresa.\n",
    "Hay muchos valores atípicos, lo que indica que algunos empleados en empresas de cualquier tamaño pueden recibir salarios considerablemente más altos.\n",
    "Aunque se podría esperar que empresas más grandes pagaran mejor, este gráfico sugiere que la variabilidad dentro de cada grupo es alta y que el tamaño de la empresa no es necesariamente un indicador claro del salario."
   ]
  },
  {
   "cell_type": "code",
   "execution_count": null,
   "metadata": {},
   "outputs": [],
   "source": [
    "\n",
    "experience_level_distribution = df_postings['formatted_experience_level'].value_counts()\n",
    "\n",
    "custom_order = ['Internship', 'Entry level', 'Associate', 'Mid-Senior level', 'Director', 'Executive']\n",
    "\n",
    "experience_level_distribution = experience_level_distribution.reindex(custom_order)\n",
    "\n",
    "#Dict of colors for each experience level\n",
    "experience_colors = {\n",
    "    'Entry level': '#1c1aaf',\n",
    "    'Associate': '#006b3d',\n",
    "    'Mid-Senior level': '#fdcc0c',\n",
    "    'Director': '#c23b21',\n",
    "    'Not Applicable': '#888888',\n",
    "    'Internship': '#0066e7',\n",
    "    'Executive': '#a11c0f'\n",
    "}\n",
    "\n",
    "# Define base colors (can be any color scheme)\n",
    "base_colors = [experience_colors.get(level) for level in experience_level_distribution.index]\n",
    "\n",
    "# Plotting the bar chart\n",
    "plt.figure(figsize=(10, 6))\n",
    "experience_level_distribution.plot(kind='bar', color=base_colors)\n",
    "plt.title('Distribución de requerimientos de experiencia laboral en las ofertas de trabajo')\n",
    "plt.xlabel('Nivel de experiencia')\n",
    "plt.ylabel('Número de ofertas')\n",
    "plt.xticks(rotation=45)\n",
    "plt.show()"
   ]
  },
  {
   "cell_type": "markdown",
   "metadata": {},
   "source": [
    "La mayoría de las ofertas de empleo están dirigidas a personas con experiencia media o en su primer empleo, lo que sugiere una alta demanda en estos niveles.\n",
    "Las oportunidades para roles directivos o ejecutivos son mucho más limitadas, lo cual es esperable, ya que estos puestos requieren más experiencia y son menos comunes.\n",
    "Las pasantías (Internship) son escasas, lo que podría indicar una menor oferta de oportunidades para estudiantes o recién graduados.\n",
    "Este patrón sugiere que las empresas buscan principalmente talento joven y personas con experiencia intermedia, mientras que los roles de alto nivel son menos accesibles."
   ]
  },
  {
   "cell_type": "code",
   "execution_count": null,
   "metadata": {},
   "outputs": [],
   "source": [
    "# Sample Data\n",
    "companies = ['Google', 'Amazon', 'Microsoft']\n",
    "job_counts = [120, 150, 100]\n",
    "# Create a figure and axis\n",
    "fig, ax = plt.subplots(figsize=(8, 6))\n",
    "\n",
    "# Define base colors (can be any color scheme)\n",
    "base_colors = ['#4CAF50', '#FF9800', '#2196F3'] # Green, Orange, Blue\n",
    "\n",
    "# Create a gradient effect by layering transparent bars\n",
    "num_layers = 10 # More layers = smoother gradient\n",
    "for i in range(num_layers):\n",
    "    alpha = (i + 1) / num_layers # Increasing opacity\n",
    "    for j, value in enumerate(job_counts):\n",
    "        ax.bar(companies[j], value * (i + 1) / num_layers, color=base_colors[j], alpha=alpha, edgecolor='none')\n",
    "\n",
    "# Labels & Title\n",
    "plt.xlabel('Company', fontsize=12, fontweight='bold')\n",
    "plt.ylabel('Number of Job Postings', fontsize=12, fontweight='bold')\n",
    "plt.title('Job Postings Per Company (Gradient Effect)', fontsize=14, fontweight='bold')\n",
    "\n",
    "# Format Ticks\n",
    "plt.xticks(fontsize=11)\n",
    "plt.yticks(fontsize=11)\n",
    "\n",
    "# Add Grid\n",
    "plt.grid(axis='y', linestyle='--', alpha=0.5)\n",
    "\n",
    "# Annotate Bars\n",
    "for i, value in enumerate(job_counts):\n",
    "    plt.text(i, value + 5, str(value), ha='center', fontsize=12, fontweight='bold', color='black')\n",
    "    \n",
    "# Remove Borders (Spines)\n",
    "ax.spines['top'].set_visible(False)\n",
    "ax.spines['right'].set_visible(False)\n",
    "plt.show()"
   ]
  },
  {
   "cell_type": "code",
   "execution_count": null,
   "metadata": {},
   "outputs": [],
   "source": [
    "#IMPORTANTE: CERRAR LA CONEXIÓN\n",
    "conn.close()"
   ]
  }
 ],
 "metadata": {
  "kernelspec": {
   "display_name": ".venv",
   "language": "python",
   "name": "python3"
  },
  "language_info": {
   "codemirror_mode": {
    "name": "ipython",
    "version": 3
   },
   "file_extension": ".py",
   "mimetype": "text/x-python",
   "name": "python",
   "nbconvert_exporter": "python",
   "pygments_lexer": "ipython3",
   "version": "3.12.9"
  }
 },
 "nbformat": 4,
 "nbformat_minor": 2
}
