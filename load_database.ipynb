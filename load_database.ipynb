{
 "cells": [
  {
   "cell_type": "code",
   "execution_count": null,
   "metadata": {},
   "outputs": [],
   "source": [
    "import requests\n",
    "\n",
    "# URL of your Google Drive database file (direct download link)\n",
    "url = \"https://drive.google.com/uc?id=1e_PSowuukgifVA7rzqkvhDuCud-YDxtN\"\n",
    "\n",
    "# Send a GET request to download the file\n",
    "response = requests.get(url)\n",
    "\n",
    "# Save the content to a local file (in the Binder container or local disk)\n",
    "with open('linkedindatabase.db', 'wb') as f:\n",
    "    f.write(response.content)\n",
    "\n",
    "print(\"Base de datos disponible!\")"
   ]
  }
 ],
 "metadata": {
  "kernelspec": {
   "display_name": ".venv",
   "language": "python",
   "name": "python3"
  },
  "language_info": {
   "name": "python",
   "version": "3.12.9"
  }
 },
 "nbformat": 4,
 "nbformat_minor": 2
}
