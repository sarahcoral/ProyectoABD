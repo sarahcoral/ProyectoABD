{
 "cells": [
  {
   "cell_type": "markdown",
   "metadata": {},
   "source": [
    "<div align=\"center\">\n",
    "   <h1>Análisis del Mercado Laboral</h1>\n",
    "   <h2>ofertas en Linkedin 2023 y 2024</h2>\n",
    "</div>"
   ]
  },
  {
   "cell_type": "markdown",
   "metadata": {},
   "source": [
    "<p><strong>Narly Tatiana Cipagauta Mora</strong> - ncipagauta@unal.edu.co</p>\n",
    "<p><strong>Karla Estefanía Murillo López</strong> - kamurillo@unal.edu.co</p>\n",
    "<p><strong>Sarah Daniella Coral Zúñiga</strong> - scoralz@unal.edu.co</p>\n",
    "<p><strong>Stiven Leonardo Sánchez León</strong> - stsanchezl@unal.edu.co</p>"
   ]
  },
  {
   "cell_type": "code",
   "execution_count": 3,
   "metadata": {},
   "outputs": [
    {
     "data": {
      "application/vnd.jupyter.widget-view+json": {
       "model_id": "f5971b8b5e204f9bbc1407aa4af155f8",
       "version_major": 2,
       "version_minor": 0
      },
      "text/plain": [
       "VBox(children=(VBox(children=(Button(description='Cargar Datos', style=ButtonStyle()), Button(description='Aná…"
      ]
     },
     "metadata": {},
     "output_type": "display_data"
    }
   ],
   "source": [
    "import ipywidgets as widgets\n",
    "from IPython.display import display, Javascript\n",
    "import subprocess\n",
    "\n",
    "def open_notebook(notebook_path):\n",
    "    # Command to run the second notebook with Voila\n",
    "    command = [\"voila\", notebook_path]\n",
    "    \n",
    "    # Start the second Voila notebook in a new process\n",
    "    subprocess.Popen(command)\n",
    "\n",
    "sidebar = widgets.VBox([\n",
    "    widgets.Button(description=\"Cargar Datos\", on_click=lambda b: open_notebook(\"load_database.ipynb\")),\n",
    "    widgets.Button(description=\"Análisis Descriptivo\", on_click=lambda b: open_notebook(\"visualization_notebooks/descriptive_analysis.ipynb\")),\n",
    "    widgets.Button(description=\"Análisis Exploratorio\", on_click=lambda b: open_notebook(\"visualization_notebooks/exploratory_analysis.ipynb\")),\n",
    "    widgets.Button(description=\"Análisis Predictivo\", on_click=lambda b: open_notebook(\"visualization_notebooks/predictive_analysis.ipynb\")),\n",
    "    widgets.Button(description=\"Conclusiones\", on_click=lambda b: open_notebook(\"visualization_notebooks/conclusions.ipynb\")),\n",
    "])\n",
    "\n",
    "\n",
    "# --- Main Content ---\n",
    "# Title, Subtitle and Introduction\n",
    "title = widgets.HTML(\"\"\"\n",
    "<div align=\"center\">\n",
    "   <h1>Análisis del Mercado Laboral</h1>\n",
    "   <h2>ofertas en Linkedin 2023 y 2024</h2>\n",
    "</div>\n",
    "\"\"\")\n",
    "\n",
    "\n",
    "# Display the sidebar and main content side-by-side\n",
    "display(widgets.VBox([sidebar]))"
   ]
  }
 ],
 "metadata": {
  "kernelspec": {
   "display_name": ".venv",
   "language": "python",
   "name": "python3"
  },
  "language_info": {
   "codemirror_mode": {
    "name": "ipython",
    "version": 3
   },
   "file_extension": ".py",
   "mimetype": "text/x-python",
   "name": "python",
   "nbconvert_exporter": "python",
   "pygments_lexer": "ipython3",
   "version": "3.12.9"
  }
 },
 "nbformat": 4,
 "nbformat_minor": 2
}
