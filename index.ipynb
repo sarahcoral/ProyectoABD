{
 "cells": [
  {
   "cell_type": "markdown",
   "metadata": {},
   "source": [
    "<div align=\"center\">\n",
    "   <h1>Análisis del Mercado Laboral</h1>\n",
    "   <h2>ofertas en Linkedin 2023 y 2024</h2>\n",
    "</div>\n",
    "\n",
    "*Narly Tatiana Cipagauta Mora* ncipagauta@unal.edu.co \n",
    "\n",
    "*Karla Estefanía Murillo López* kamurillo@unal.edu.co \n",
    "\n",
    "*Sarah Daniella Coral Zúñiga* scoralz@unal.edu.co  \n",
    "\n",
    "*Stiven Leonardo Sánchez León* stsanchezl@unal.edu.co\n"
   ]
  },
  {
   "cell_type": "code",
   "execution_count": null,
   "metadata": {},
   "outputs": [
    {
     "name": "stderr",
     "output_type": "stream",
     "text": [
      "<>:9: SyntaxWarning: invalid escape sequence '\\d'\n",
      "<>:10: SyntaxWarning: invalid escape sequence '\\e'\n",
      "<>:11: SyntaxWarning: invalid escape sequence '\\p'\n",
      "<>:9: SyntaxWarning: invalid escape sequence '\\d'\n",
      "<>:10: SyntaxWarning: invalid escape sequence '\\e'\n",
      "<>:11: SyntaxWarning: invalid escape sequence '\\p'\n",
      "C:\\Users\\Sarah\\AppData\\Local\\Temp\\ipykernel_1104\\4127183338.py:9: SyntaxWarning: invalid escape sequence '\\d'\n",
      "  widgets.Button(description=\"Análisis Descriptivo\", on_click=lambda b: open_notebook(\"visualization_notebooks\\descriptive_analysis.ipynb\")),\n",
      "C:\\Users\\Sarah\\AppData\\Local\\Temp\\ipykernel_1104\\4127183338.py:10: SyntaxWarning: invalid escape sequence '\\e'\n",
      "  widgets.Button(description=\"Análisis Exploratorio\", on_click=lambda b: open_notebook(\"visualization_notebooks\\exploratory_analysis.ipynb\")),\n",
      "C:\\Users\\Sarah\\AppData\\Local\\Temp\\ipykernel_1104\\4127183338.py:11: SyntaxWarning: invalid escape sequence '\\p'\n",
      "  widgets.Button(description=\"Análisis Predictivo\", on_click=lambda b: open_notebook(\"visualization_notebooks\\predictive_analysis.ipynb\")),\n"
     ]
    }
   ],
   "source": [
    "import ipywidgets as widgets\n",
    "from IPython.display import display, Javascript\n",
    "\n",
    "def open_notebook(notebook_path):\n",
    "    js = f\"window.open('.voila/render/{notebook_path}', '_self')\"\n",
    "    display(Javascript(js))\n",
    "\n",
    "sidebar = widgets.VBox([\n",
    "    widgets.Button(description=\"Análisis Descriptivo\", on_click=lambda b: open_notebook(\"visualization_notebooks/descriptive_analysis.ipynb\")),\n",
    "    widgets.Button(description=\"Análisis Exploratorio\", on_click=lambda b: open_notebook(\"visualization_notebooks/exploratory_analysis.ipynb\")),\n",
    "    widgets.Button(description=\"Análisis Predictivo\", on_click=lambda b: open_notebook(\"visualization_notebooks/predictive_analysis.ipynb\")),\n",
    "])"
   ]
  },
  {
   "cell_type": "code",
   "execution_count": null,
   "metadata": {},
   "outputs": [],
   "source": [
    "import requests\n",
    "\n",
    "# URL of your Google Drive database file (direct download link)\n",
<<<<<<< HEAD
    "url = 'https://drive.google.com/uc?id=1e_PSowuukgifVA7rzqkvhDuCud-YDxtN'\n",
=======
    "url = 'https://drive.google.com/uc?id=1A2B3C4D5E6F7G8H9I0J1K2L3M4N5O6P7'\n",
>>>>>>> 180418843b17d45ba1c18d1b65dc389e68cc9456
    "\n",
    "# Send a GET request to download the file\n",
    "response = requests.get(url)\n",
    "\n",
    "# Save the content to a local file (in the Binder container or local disk)\n",
    "with open('linkedindatabase.db', 'wb') as f:\n",
    "    f.write(response.content)\n",
    "\n",
    "print(\"Base de datos disponible!\")"
   ]
  }
 ],
 "metadata": {
  "kernelspec": {
   "display_name": ".venv",
   "language": "python",
   "name": "python3"
  },
  "language_info": {
   "codemirror_mode": {
    "name": "ipython",
    "version": 3
   },
   "file_extension": ".py",
   "mimetype": "text/x-python",
   "name": "python",
   "nbconvert_exporter": "python",
   "pygments_lexer": "ipython3",
   "version": "3.12.9"
  }
 },
 "nbformat": 4,
 "nbformat_minor": 2
}
